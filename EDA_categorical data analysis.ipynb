{
 "cells": [
  {
   "cell_type": "code",
   "execution_count": 1,
   "id": "e3483425-10e8-417d-af58-aa527448dd11",
   "metadata": {},
   "outputs": [
    {
     "name": "stdout",
     "output_type": "stream",
     "text": [
      " YearsExperience  Salary \n",
      "       1.1        39343.0\n",
      "       1.3        46205.0\n",
      "       1.5        37731.0\n",
      "       2.0        43525.0\n",
      "       2.2        39891.0\n",
      "       2.9        56642.0\n",
      "       3.0        60150.0\n",
      "       3.2        54445.0\n",
      "       3.2        64445.0\n",
      "       3.7        57189.0\n",
      "       3.9        63218.0\n",
      "       4.0        55794.0\n",
      "       4.0        56957.0\n",
      "       4.1        57081.0\n",
      "       4.5        61111.0\n",
      "       4.9        67938.0\n",
      "       5.1        66029.0\n",
      "       5.3        83088.0\n",
      "       5.9        81363.0\n",
      "       6.0        93940.0\n",
      "       6.8        91738.0\n",
      "       7.1        98273.0\n",
      "       7.9       101302.0\n",
      "       8.2       113812.0\n",
      "       8.7       109431.0\n",
      "       9.0       105582.0\n",
      "       9.5       116969.0\n",
      "       9.6       112635.0\n",
      "      10.3       122391.0\n",
      "      10.5       121872.0\n"
     ]
    }
   ],
   "source": [
    "import pandas as pd\n",
    "import numpy as np\n",
    "import matplotlib.pyplot as m\n",
    "import seaborn as s\n",
    "from IPython.display import HTML\n",
    "p=r\"datafiles\\Salary_data.csv\"\n",
    "sal=pd.read_csv(p)\n",
    "#HTML(sal.to_html(index=False,justify='left'))\n",
    "print(sal.to_string(index=False,justify='center'))"
   ]
  },
  {
   "cell_type": "code",
   "execution_count": 2,
   "id": "6d96c1c5-b895-4381-a694-0d6d5f9ea8e2",
   "metadata": {},
   "outputs": [
    {
     "data": {
      "text/html": [
       "<div>\n",
       "<style scoped>\n",
       "    .dataframe tbody tr th:only-of-type {\n",
       "        vertical-align: middle;\n",
       "    }\n",
       "\n",
       "    .dataframe tbody tr th {\n",
       "        vertical-align: top;\n",
       "    }\n",
       "\n",
       "    .dataframe thead th {\n",
       "        text-align: right;\n",
       "    }\n",
       "</style>\n",
       "<table border=\"1\" class=\"dataframe\">\n",
       "  <thead>\n",
       "    <tr style=\"text-align: right;\">\n",
       "      <th></th>\n",
       "      <th>case_id</th>\n",
       "      <th>continent</th>\n",
       "      <th>education_of_employee</th>\n",
       "      <th>has_job_experience</th>\n",
       "      <th>requires_job_training</th>\n",
       "      <th>no_of_employees</th>\n",
       "      <th>yr_of_estab</th>\n",
       "      <th>region_of_employment</th>\n",
       "      <th>prevailing_wage</th>\n",
       "      <th>unit_of_wage</th>\n",
       "      <th>full_time_position</th>\n",
       "      <th>case_status</th>\n",
       "    </tr>\n",
       "  </thead>\n",
       "  <tbody>\n",
       "    <tr>\n",
       "      <th>0</th>\n",
       "      <td>EZYV01</td>\n",
       "      <td>Asia</td>\n",
       "      <td>High School</td>\n",
       "      <td>N</td>\n",
       "      <td>N</td>\n",
       "      <td>14513</td>\n",
       "      <td>2007</td>\n",
       "      <td>West</td>\n",
       "      <td>592.2029</td>\n",
       "      <td>Hour</td>\n",
       "      <td>Y</td>\n",
       "      <td>Denied</td>\n",
       "    </tr>\n",
       "    <tr>\n",
       "      <th>1</th>\n",
       "      <td>EZYV02</td>\n",
       "      <td>Asia</td>\n",
       "      <td>Master's</td>\n",
       "      <td>Y</td>\n",
       "      <td>N</td>\n",
       "      <td>2412</td>\n",
       "      <td>2002</td>\n",
       "      <td>Northeast</td>\n",
       "      <td>83425.6500</td>\n",
       "      <td>Year</td>\n",
       "      <td>Y</td>\n",
       "      <td>Certified</td>\n",
       "    </tr>\n",
       "    <tr>\n",
       "      <th>2</th>\n",
       "      <td>EZYV03</td>\n",
       "      <td>Asia</td>\n",
       "      <td>Bachelor's</td>\n",
       "      <td>N</td>\n",
       "      <td>Y</td>\n",
       "      <td>44444</td>\n",
       "      <td>2008</td>\n",
       "      <td>West</td>\n",
       "      <td>122996.8600</td>\n",
       "      <td>Year</td>\n",
       "      <td>Y</td>\n",
       "      <td>Denied</td>\n",
       "    </tr>\n",
       "    <tr>\n",
       "      <th>3</th>\n",
       "      <td>EZYV04</td>\n",
       "      <td>Asia</td>\n",
       "      <td>Bachelor's</td>\n",
       "      <td>N</td>\n",
       "      <td>N</td>\n",
       "      <td>98</td>\n",
       "      <td>1897</td>\n",
       "      <td>West</td>\n",
       "      <td>83434.0300</td>\n",
       "      <td>Year</td>\n",
       "      <td>Y</td>\n",
       "      <td>Denied</td>\n",
       "    </tr>\n",
       "    <tr>\n",
       "      <th>4</th>\n",
       "      <td>EZYV05</td>\n",
       "      <td>Africa</td>\n",
       "      <td>Master's</td>\n",
       "      <td>Y</td>\n",
       "      <td>N</td>\n",
       "      <td>1082</td>\n",
       "      <td>2005</td>\n",
       "      <td>South</td>\n",
       "      <td>149907.3900</td>\n",
       "      <td>Year</td>\n",
       "      <td>Y</td>\n",
       "      <td>Certified</td>\n",
       "    </tr>\n",
       "    <tr>\n",
       "      <th>...</th>\n",
       "      <td>...</td>\n",
       "      <td>...</td>\n",
       "      <td>...</td>\n",
       "      <td>...</td>\n",
       "      <td>...</td>\n",
       "      <td>...</td>\n",
       "      <td>...</td>\n",
       "      <td>...</td>\n",
       "      <td>...</td>\n",
       "      <td>...</td>\n",
       "      <td>...</td>\n",
       "      <td>...</td>\n",
       "    </tr>\n",
       "    <tr>\n",
       "      <th>25475</th>\n",
       "      <td>EZYV25476</td>\n",
       "      <td>Asia</td>\n",
       "      <td>Bachelor's</td>\n",
       "      <td>Y</td>\n",
       "      <td>Y</td>\n",
       "      <td>2601</td>\n",
       "      <td>2008</td>\n",
       "      <td>South</td>\n",
       "      <td>77092.5700</td>\n",
       "      <td>Year</td>\n",
       "      <td>Y</td>\n",
       "      <td>Certified</td>\n",
       "    </tr>\n",
       "    <tr>\n",
       "      <th>25476</th>\n",
       "      <td>EZYV25477</td>\n",
       "      <td>Asia</td>\n",
       "      <td>High School</td>\n",
       "      <td>Y</td>\n",
       "      <td>N</td>\n",
       "      <td>3274</td>\n",
       "      <td>2006</td>\n",
       "      <td>Northeast</td>\n",
       "      <td>279174.7900</td>\n",
       "      <td>Year</td>\n",
       "      <td>Y</td>\n",
       "      <td>Certified</td>\n",
       "    </tr>\n",
       "    <tr>\n",
       "      <th>25477</th>\n",
       "      <td>EZYV25478</td>\n",
       "      <td>Asia</td>\n",
       "      <td>Master's</td>\n",
       "      <td>Y</td>\n",
       "      <td>N</td>\n",
       "      <td>1121</td>\n",
       "      <td>1910</td>\n",
       "      <td>South</td>\n",
       "      <td>146298.8500</td>\n",
       "      <td>Year</td>\n",
       "      <td>N</td>\n",
       "      <td>Certified</td>\n",
       "    </tr>\n",
       "    <tr>\n",
       "      <th>25478</th>\n",
       "      <td>EZYV25479</td>\n",
       "      <td>Asia</td>\n",
       "      <td>Master's</td>\n",
       "      <td>Y</td>\n",
       "      <td>Y</td>\n",
       "      <td>1918</td>\n",
       "      <td>1887</td>\n",
       "      <td>West</td>\n",
       "      <td>86154.7700</td>\n",
       "      <td>Year</td>\n",
       "      <td>Y</td>\n",
       "      <td>Certified</td>\n",
       "    </tr>\n",
       "    <tr>\n",
       "      <th>25479</th>\n",
       "      <td>EZYV25480</td>\n",
       "      <td>Asia</td>\n",
       "      <td>Bachelor's</td>\n",
       "      <td>Y</td>\n",
       "      <td>N</td>\n",
       "      <td>3195</td>\n",
       "      <td>1960</td>\n",
       "      <td>Midwest</td>\n",
       "      <td>70876.9100</td>\n",
       "      <td>Year</td>\n",
       "      <td>Y</td>\n",
       "      <td>Certified</td>\n",
       "    </tr>\n",
       "  </tbody>\n",
       "</table>\n",
       "<p>25480 rows × 12 columns</p>\n",
       "</div>"
      ],
      "text/plain": [
       "         case_id continent education_of_employee has_job_experience  \\\n",
       "0         EZYV01      Asia           High School                  N   \n",
       "1         EZYV02      Asia              Master's                  Y   \n",
       "2         EZYV03      Asia            Bachelor's                  N   \n",
       "3         EZYV04      Asia            Bachelor's                  N   \n",
       "4         EZYV05    Africa              Master's                  Y   \n",
       "...          ...       ...                   ...                ...   \n",
       "25475  EZYV25476      Asia            Bachelor's                  Y   \n",
       "25476  EZYV25477      Asia           High School                  Y   \n",
       "25477  EZYV25478      Asia              Master's                  Y   \n",
       "25478  EZYV25479      Asia              Master's                  Y   \n",
       "25479  EZYV25480      Asia            Bachelor's                  Y   \n",
       "\n",
       "      requires_job_training  no_of_employees  yr_of_estab  \\\n",
       "0                         N            14513         2007   \n",
       "1                         N             2412         2002   \n",
       "2                         Y            44444         2008   \n",
       "3                         N               98         1897   \n",
       "4                         N             1082         2005   \n",
       "...                     ...              ...          ...   \n",
       "25475                     Y             2601         2008   \n",
       "25476                     N             3274         2006   \n",
       "25477                     N             1121         1910   \n",
       "25478                     Y             1918         1887   \n",
       "25479                     N             3195         1960   \n",
       "\n",
       "      region_of_employment  prevailing_wage unit_of_wage full_time_position  \\\n",
       "0                     West         592.2029         Hour                  Y   \n",
       "1                Northeast       83425.6500         Year                  Y   \n",
       "2                     West      122996.8600         Year                  Y   \n",
       "3                     West       83434.0300         Year                  Y   \n",
       "4                    South      149907.3900         Year                  Y   \n",
       "...                    ...              ...          ...                ...   \n",
       "25475                South       77092.5700         Year                  Y   \n",
       "25476            Northeast      279174.7900         Year                  Y   \n",
       "25477                South      146298.8500         Year                  N   \n",
       "25478                 West       86154.7700         Year                  Y   \n",
       "25479              Midwest       70876.9100         Year                  Y   \n",
       "\n",
       "      case_status  \n",
       "0          Denied  \n",
       "1       Certified  \n",
       "2          Denied  \n",
       "3          Denied  \n",
       "4       Certified  \n",
       "...           ...  \n",
       "25475   Certified  \n",
       "25476   Certified  \n",
       "25477   Certified  \n",
       "25478   Certified  \n",
       "25479   Certified  \n",
       "\n",
       "[25480 rows x 12 columns]"
      ]
     },
     "execution_count": 2,
     "metadata": {},
     "output_type": "execute_result"
    }
   ],
   "source": [
    "visa_f=pd.read_csv(r\"C:\\Users\\debasish\\DS-AI\\N-IT\\datafiles\\Visadataset.csv\")\n",
    "visa_f"
   ]
  },
  {
   "cell_type": "code",
   "execution_count": 3,
   "id": "76f1e9dd-a248-4c4d-9f26-9b830443faab",
   "metadata": {},
   "outputs": [
    {
     "data": {
      "text/html": [
       "<div>\n",
       "<style scoped>\n",
       "    .dataframe tbody tr th:only-of-type {\n",
       "        vertical-align: middle;\n",
       "    }\n",
       "\n",
       "    .dataframe tbody tr th {\n",
       "        vertical-align: top;\n",
       "    }\n",
       "\n",
       "    .dataframe thead th {\n",
       "        text-align: right;\n",
       "    }\n",
       "</style>\n",
       "<table border=\"1\" class=\"dataframe\">\n",
       "  <thead>\n",
       "    <tr style=\"text-align: right;\">\n",
       "      <th></th>\n",
       "      <th>age</th>\n",
       "      <th>job</th>\n",
       "      <th>marital</th>\n",
       "      <th>education</th>\n",
       "      <th>default</th>\n",
       "      <th>balance</th>\n",
       "      <th>housing</th>\n",
       "      <th>loan</th>\n",
       "      <th>contact</th>\n",
       "      <th>day</th>\n",
       "      <th>month</th>\n",
       "      <th>duration</th>\n",
       "      <th>campaign</th>\n",
       "      <th>pdays</th>\n",
       "      <th>previous</th>\n",
       "      <th>poutcome</th>\n",
       "      <th>y</th>\n",
       "    </tr>\n",
       "  </thead>\n",
       "  <tbody>\n",
       "    <tr>\n",
       "      <th>0</th>\n",
       "      <td>30</td>\n",
       "      <td>unemployed</td>\n",
       "      <td>married</td>\n",
       "      <td>primary</td>\n",
       "      <td>no</td>\n",
       "      <td>1787</td>\n",
       "      <td>no</td>\n",
       "      <td>no</td>\n",
       "      <td>cellular</td>\n",
       "      <td>19</td>\n",
       "      <td>oct</td>\n",
       "      <td>79</td>\n",
       "      <td>1</td>\n",
       "      <td>-1</td>\n",
       "      <td>0</td>\n",
       "      <td>unknown</td>\n",
       "      <td>no</td>\n",
       "    </tr>\n",
       "    <tr>\n",
       "      <th>1</th>\n",
       "      <td>33</td>\n",
       "      <td>services</td>\n",
       "      <td>married</td>\n",
       "      <td>secondary</td>\n",
       "      <td>no</td>\n",
       "      <td>4789</td>\n",
       "      <td>yes</td>\n",
       "      <td>yes</td>\n",
       "      <td>cellular</td>\n",
       "      <td>11</td>\n",
       "      <td>may</td>\n",
       "      <td>220</td>\n",
       "      <td>1</td>\n",
       "      <td>339</td>\n",
       "      <td>4</td>\n",
       "      <td>failure</td>\n",
       "      <td>no</td>\n",
       "    </tr>\n",
       "    <tr>\n",
       "      <th>2</th>\n",
       "      <td>35</td>\n",
       "      <td>management</td>\n",
       "      <td>single</td>\n",
       "      <td>tertiary</td>\n",
       "      <td>no</td>\n",
       "      <td>1350</td>\n",
       "      <td>yes</td>\n",
       "      <td>no</td>\n",
       "      <td>cellular</td>\n",
       "      <td>16</td>\n",
       "      <td>apr</td>\n",
       "      <td>185</td>\n",
       "      <td>1</td>\n",
       "      <td>330</td>\n",
       "      <td>1</td>\n",
       "      <td>failure</td>\n",
       "      <td>no</td>\n",
       "    </tr>\n",
       "    <tr>\n",
       "      <th>3</th>\n",
       "      <td>30</td>\n",
       "      <td>management</td>\n",
       "      <td>married</td>\n",
       "      <td>tertiary</td>\n",
       "      <td>no</td>\n",
       "      <td>1476</td>\n",
       "      <td>yes</td>\n",
       "      <td>yes</td>\n",
       "      <td>unknown</td>\n",
       "      <td>3</td>\n",
       "      <td>jun</td>\n",
       "      <td>199</td>\n",
       "      <td>4</td>\n",
       "      <td>-1</td>\n",
       "      <td>0</td>\n",
       "      <td>unknown</td>\n",
       "      <td>no</td>\n",
       "    </tr>\n",
       "    <tr>\n",
       "      <th>4</th>\n",
       "      <td>59</td>\n",
       "      <td>blue-collar</td>\n",
       "      <td>married</td>\n",
       "      <td>secondary</td>\n",
       "      <td>no</td>\n",
       "      <td>0</td>\n",
       "      <td>yes</td>\n",
       "      <td>no</td>\n",
       "      <td>unknown</td>\n",
       "      <td>5</td>\n",
       "      <td>may</td>\n",
       "      <td>226</td>\n",
       "      <td>1</td>\n",
       "      <td>-1</td>\n",
       "      <td>0</td>\n",
       "      <td>unknown</td>\n",
       "      <td>no</td>\n",
       "    </tr>\n",
       "    <tr>\n",
       "      <th>...</th>\n",
       "      <td>...</td>\n",
       "      <td>...</td>\n",
       "      <td>...</td>\n",
       "      <td>...</td>\n",
       "      <td>...</td>\n",
       "      <td>...</td>\n",
       "      <td>...</td>\n",
       "      <td>...</td>\n",
       "      <td>...</td>\n",
       "      <td>...</td>\n",
       "      <td>...</td>\n",
       "      <td>...</td>\n",
       "      <td>...</td>\n",
       "      <td>...</td>\n",
       "      <td>...</td>\n",
       "      <td>...</td>\n",
       "      <td>...</td>\n",
       "    </tr>\n",
       "    <tr>\n",
       "      <th>4516</th>\n",
       "      <td>33</td>\n",
       "      <td>services</td>\n",
       "      <td>married</td>\n",
       "      <td>secondary</td>\n",
       "      <td>no</td>\n",
       "      <td>-333</td>\n",
       "      <td>yes</td>\n",
       "      <td>no</td>\n",
       "      <td>cellular</td>\n",
       "      <td>30</td>\n",
       "      <td>jul</td>\n",
       "      <td>329</td>\n",
       "      <td>5</td>\n",
       "      <td>-1</td>\n",
       "      <td>0</td>\n",
       "      <td>unknown</td>\n",
       "      <td>no</td>\n",
       "    </tr>\n",
       "    <tr>\n",
       "      <th>4517</th>\n",
       "      <td>57</td>\n",
       "      <td>self-employed</td>\n",
       "      <td>married</td>\n",
       "      <td>tertiary</td>\n",
       "      <td>yes</td>\n",
       "      <td>-3313</td>\n",
       "      <td>yes</td>\n",
       "      <td>yes</td>\n",
       "      <td>unknown</td>\n",
       "      <td>9</td>\n",
       "      <td>may</td>\n",
       "      <td>153</td>\n",
       "      <td>1</td>\n",
       "      <td>-1</td>\n",
       "      <td>0</td>\n",
       "      <td>unknown</td>\n",
       "      <td>no</td>\n",
       "    </tr>\n",
       "    <tr>\n",
       "      <th>4518</th>\n",
       "      <td>57</td>\n",
       "      <td>technician</td>\n",
       "      <td>married</td>\n",
       "      <td>secondary</td>\n",
       "      <td>no</td>\n",
       "      <td>295</td>\n",
       "      <td>no</td>\n",
       "      <td>no</td>\n",
       "      <td>cellular</td>\n",
       "      <td>19</td>\n",
       "      <td>aug</td>\n",
       "      <td>151</td>\n",
       "      <td>11</td>\n",
       "      <td>-1</td>\n",
       "      <td>0</td>\n",
       "      <td>unknown</td>\n",
       "      <td>no</td>\n",
       "    </tr>\n",
       "    <tr>\n",
       "      <th>4519</th>\n",
       "      <td>28</td>\n",
       "      <td>blue-collar</td>\n",
       "      <td>married</td>\n",
       "      <td>secondary</td>\n",
       "      <td>no</td>\n",
       "      <td>1137</td>\n",
       "      <td>no</td>\n",
       "      <td>no</td>\n",
       "      <td>cellular</td>\n",
       "      <td>6</td>\n",
       "      <td>feb</td>\n",
       "      <td>129</td>\n",
       "      <td>4</td>\n",
       "      <td>211</td>\n",
       "      <td>3</td>\n",
       "      <td>other</td>\n",
       "      <td>no</td>\n",
       "    </tr>\n",
       "    <tr>\n",
       "      <th>4520</th>\n",
       "      <td>44</td>\n",
       "      <td>entrepreneur</td>\n",
       "      <td>single</td>\n",
       "      <td>tertiary</td>\n",
       "      <td>no</td>\n",
       "      <td>1136</td>\n",
       "      <td>yes</td>\n",
       "      <td>yes</td>\n",
       "      <td>cellular</td>\n",
       "      <td>3</td>\n",
       "      <td>apr</td>\n",
       "      <td>345</td>\n",
       "      <td>2</td>\n",
       "      <td>249</td>\n",
       "      <td>7</td>\n",
       "      <td>other</td>\n",
       "      <td>no</td>\n",
       "    </tr>\n",
       "  </tbody>\n",
       "</table>\n",
       "<p>4521 rows × 17 columns</p>\n",
       "</div>"
      ],
      "text/plain": [
       "      age            job  marital  education default  balance housing loan  \\\n",
       "0      30     unemployed  married    primary      no     1787      no   no   \n",
       "1      33       services  married  secondary      no     4789     yes  yes   \n",
       "2      35     management   single   tertiary      no     1350     yes   no   \n",
       "3      30     management  married   tertiary      no     1476     yes  yes   \n",
       "4      59    blue-collar  married  secondary      no        0     yes   no   \n",
       "...   ...            ...      ...        ...     ...      ...     ...  ...   \n",
       "4516   33       services  married  secondary      no     -333     yes   no   \n",
       "4517   57  self-employed  married   tertiary     yes    -3313     yes  yes   \n",
       "4518   57     technician  married  secondary      no      295      no   no   \n",
       "4519   28    blue-collar  married  secondary      no     1137      no   no   \n",
       "4520   44   entrepreneur   single   tertiary      no     1136     yes  yes   \n",
       "\n",
       "       contact  day month  duration  campaign  pdays  previous poutcome   y  \n",
       "0     cellular   19   oct        79         1     -1         0  unknown  no  \n",
       "1     cellular   11   may       220         1    339         4  failure  no  \n",
       "2     cellular   16   apr       185         1    330         1  failure  no  \n",
       "3      unknown    3   jun       199         4     -1         0  unknown  no  \n",
       "4      unknown    5   may       226         1     -1         0  unknown  no  \n",
       "...        ...  ...   ...       ...       ...    ...       ...      ...  ..  \n",
       "4516  cellular   30   jul       329         5     -1         0  unknown  no  \n",
       "4517   unknown    9   may       153         1     -1         0  unknown  no  \n",
       "4518  cellular   19   aug       151        11     -1         0  unknown  no  \n",
       "4519  cellular    6   feb       129         4    211         3    other  no  \n",
       "4520  cellular    3   apr       345         2    249         7    other  no  \n",
       "\n",
       "[4521 rows x 17 columns]"
      ]
     },
     "execution_count": 3,
     "metadata": {},
     "output_type": "execute_result"
    }
   ],
   "source": [
    "p=r\"C:\\Users\\debasish\\DS-AI\\N-IT\\datafiles\\Bank.csv\"\n",
    "bankdata=pd.read_csv(p)\n",
    "bankdata"
   ]
  },
  {
   "cell_type": "code",
   "execution_count": null,
   "id": "fb0d14a7-7693-47dd-b8df-a4b64328ea72",
   "metadata": {},
   "outputs": [],
   "source": [
    "\n"
   ]
  },
  {
   "cell_type": "code",
   "execution_count": 4,
   "id": "1264040a-5fc2-4e45-8d40-096c456a45d5",
   "metadata": {},
   "outputs": [],
   "source": [
    "#bankdata[colbank]=bankdata['age'].str.split(\";\",expand=True)"
   ]
  },
  {
   "cell_type": "code",
   "execution_count": 5,
   "id": "048fa92d-254c-45ba-a530-82466ff5ef01",
   "metadata": {},
   "outputs": [
    {
     "name": "stdout",
     "output_type": "stream",
     "text": [
      "['case_id', 'continent', 'education_of_employee', 'has_job_experience', 'requires_job_training', 'region_of_employment', 'unit_of_wage', 'full_time_position', 'case_status']\n",
      "['no_of_employees', 'yr_of_estab', 'prevailing_wage']\n"
     ]
    }
   ],
   "source": [
    "op=visa_f.dtypes\n",
    "d=dict(op)\n",
    "lisobj=[]\n",
    "lisnum=[]\n",
    "for i,v in d.items():\n",
    "    if v=='object':\n",
    "        lisobj.append(i)\n",
    "    else:\n",
    "        lisnum.append(i)\n",
    "print(lisobj)\n",
    "print(lisnum)"
   ]
  },
  {
   "cell_type": "code",
   "execution_count": 6,
   "id": "c80c172e-7b21-4e05-b568-b47c61a804d6",
   "metadata": {},
   "outputs": [
    {
     "data": {
      "text/plain": [
       "0          Asia\n",
       "1          Asia\n",
       "2          Asia\n",
       "3          Asia\n",
       "4        Africa\n",
       "          ...  \n",
       "25475      Asia\n",
       "25476      Asia\n",
       "25477      Asia\n",
       "25478      Asia\n",
       "25479      Asia\n",
       "Name: continent, Length: 25480, dtype: object"
      ]
     },
     "execution_count": 6,
     "metadata": {},
     "output_type": "execute_result"
    }
   ],
   "source": [
    "visa_f['continent'] #series\n"
   ]
  },
  {
   "cell_type": "code",
   "execution_count": 7,
   "id": "67e60872-d73a-4555-abd8-22d24992356a",
   "metadata": {},
   "outputs": [
    {
     "data": {
      "text/plain": [
       "0          Asia\n",
       "1          Asia\n",
       "2          Asia\n",
       "3          Asia\n",
       "4        Africa\n",
       "          ...  \n",
       "25475      Asia\n",
       "25476      Asia\n",
       "25477      Asia\n",
       "25478      Asia\n",
       "25479      Asia\n",
       "Name: continent, Length: 25480, dtype: object"
      ]
     },
     "execution_count": 7,
     "metadata": {},
     "output_type": "execute_result"
    }
   ],
   "source": [
    "visa_f.continent #series"
   ]
  },
  {
   "cell_type": "code",
   "execution_count": 8,
   "id": "1d39978e-116a-4985-bfe0-c0e1e267ce59",
   "metadata": {},
   "outputs": [
    {
     "data": {
      "text/html": [
       "<div>\n",
       "<style scoped>\n",
       "    .dataframe tbody tr th:only-of-type {\n",
       "        vertical-align: middle;\n",
       "    }\n",
       "\n",
       "    .dataframe tbody tr th {\n",
       "        vertical-align: top;\n",
       "    }\n",
       "\n",
       "    .dataframe thead th {\n",
       "        text-align: right;\n",
       "    }\n",
       "</style>\n",
       "<table border=\"1\" class=\"dataframe\">\n",
       "  <thead>\n",
       "    <tr style=\"text-align: right;\">\n",
       "      <th></th>\n",
       "      <th>continent</th>\n",
       "    </tr>\n",
       "  </thead>\n",
       "  <tbody>\n",
       "    <tr>\n",
       "      <th>0</th>\n",
       "      <td>Asia</td>\n",
       "    </tr>\n",
       "    <tr>\n",
       "      <th>1</th>\n",
       "      <td>Asia</td>\n",
       "    </tr>\n",
       "    <tr>\n",
       "      <th>2</th>\n",
       "      <td>Asia</td>\n",
       "    </tr>\n",
       "    <tr>\n",
       "      <th>3</th>\n",
       "      <td>Asia</td>\n",
       "    </tr>\n",
       "    <tr>\n",
       "      <th>4</th>\n",
       "      <td>Africa</td>\n",
       "    </tr>\n",
       "    <tr>\n",
       "      <th>...</th>\n",
       "      <td>...</td>\n",
       "    </tr>\n",
       "    <tr>\n",
       "      <th>25475</th>\n",
       "      <td>Asia</td>\n",
       "    </tr>\n",
       "    <tr>\n",
       "      <th>25476</th>\n",
       "      <td>Asia</td>\n",
       "    </tr>\n",
       "    <tr>\n",
       "      <th>25477</th>\n",
       "      <td>Asia</td>\n",
       "    </tr>\n",
       "    <tr>\n",
       "      <th>25478</th>\n",
       "      <td>Asia</td>\n",
       "    </tr>\n",
       "    <tr>\n",
       "      <th>25479</th>\n",
       "      <td>Asia</td>\n",
       "    </tr>\n",
       "  </tbody>\n",
       "</table>\n",
       "<p>25480 rows × 1 columns</p>\n",
       "</div>"
      ],
      "text/plain": [
       "      continent\n",
       "0          Asia\n",
       "1          Asia\n",
       "2          Asia\n",
       "3          Asia\n",
       "4        Africa\n",
       "...         ...\n",
       "25475      Asia\n",
       "25476      Asia\n",
       "25477      Asia\n",
       "25478      Asia\n",
       "25479      Asia\n",
       "\n",
       "[25480 rows x 1 columns]"
      ]
     },
     "execution_count": 8,
     "metadata": {},
     "output_type": "execute_result"
    }
   ],
   "source": [
    "visa_f[['continent']]"
   ]
  },
  {
   "cell_type": "code",
   "execution_count": 9,
   "id": "f2b94148-b783-456a-a61f-4ff079d5ecf5",
   "metadata": {},
   "outputs": [
    {
     "data": {
      "text/plain": [
       "0          Asia\n",
       "1          Asia\n",
       "2          Asia\n",
       "3          Asia\n",
       "4        Africa\n",
       "          ...  \n",
       "25475      Asia\n",
       "25476      Asia\n",
       "25477      Asia\n",
       "25478      Asia\n",
       "25479      Asia\n",
       "Name: continent, Length: 25480, dtype: object"
      ]
     },
     "execution_count": 9,
     "metadata": {},
     "output_type": "execute_result"
    }
   ],
   "source": [
    "visa_f.loc[:,'continent']"
   ]
  },
  {
   "cell_type": "code",
   "execution_count": 10,
   "id": "ebcecfc3-63d3-418e-aff7-9395fe2a7373",
   "metadata": {},
   "outputs": [
    {
     "data": {
      "text/html": [
       "<div>\n",
       "<style scoped>\n",
       "    .dataframe tbody tr th:only-of-type {\n",
       "        vertical-align: middle;\n",
       "    }\n",
       "\n",
       "    .dataframe tbody tr th {\n",
       "        vertical-align: top;\n",
       "    }\n",
       "\n",
       "    .dataframe thead th {\n",
       "        text-align: right;\n",
       "    }\n",
       "</style>\n",
       "<table border=\"1\" class=\"dataframe\">\n",
       "  <thead>\n",
       "    <tr style=\"text-align: right;\">\n",
       "      <th></th>\n",
       "      <th>continent</th>\n",
       "      <th>case_status</th>\n",
       "    </tr>\n",
       "  </thead>\n",
       "  <tbody>\n",
       "    <tr>\n",
       "      <th>0</th>\n",
       "      <td>Asia</td>\n",
       "      <td>Denied</td>\n",
       "    </tr>\n",
       "    <tr>\n",
       "      <th>1</th>\n",
       "      <td>Asia</td>\n",
       "      <td>Certified</td>\n",
       "    </tr>\n",
       "    <tr>\n",
       "      <th>2</th>\n",
       "      <td>Asia</td>\n",
       "      <td>Denied</td>\n",
       "    </tr>\n",
       "    <tr>\n",
       "      <th>3</th>\n",
       "      <td>Asia</td>\n",
       "      <td>Denied</td>\n",
       "    </tr>\n",
       "    <tr>\n",
       "      <th>4</th>\n",
       "      <td>Africa</td>\n",
       "      <td>Certified</td>\n",
       "    </tr>\n",
       "    <tr>\n",
       "      <th>...</th>\n",
       "      <td>...</td>\n",
       "      <td>...</td>\n",
       "    </tr>\n",
       "    <tr>\n",
       "      <th>25475</th>\n",
       "      <td>Asia</td>\n",
       "      <td>Certified</td>\n",
       "    </tr>\n",
       "    <tr>\n",
       "      <th>25476</th>\n",
       "      <td>Asia</td>\n",
       "      <td>Certified</td>\n",
       "    </tr>\n",
       "    <tr>\n",
       "      <th>25477</th>\n",
       "      <td>Asia</td>\n",
       "      <td>Certified</td>\n",
       "    </tr>\n",
       "    <tr>\n",
       "      <th>25478</th>\n",
       "      <td>Asia</td>\n",
       "      <td>Certified</td>\n",
       "    </tr>\n",
       "    <tr>\n",
       "      <th>25479</th>\n",
       "      <td>Asia</td>\n",
       "      <td>Certified</td>\n",
       "    </tr>\n",
       "  </tbody>\n",
       "</table>\n",
       "<p>25480 rows × 2 columns</p>\n",
       "</div>"
      ],
      "text/plain": [
       "      continent case_status\n",
       "0          Asia      Denied\n",
       "1          Asia   Certified\n",
       "2          Asia      Denied\n",
       "3          Asia      Denied\n",
       "4        Africa   Certified\n",
       "...         ...         ...\n",
       "25475      Asia   Certified\n",
       "25476      Asia   Certified\n",
       "25477      Asia   Certified\n",
       "25478      Asia   Certified\n",
       "25479      Asia   Certified\n",
       "\n",
       "[25480 rows x 2 columns]"
      ]
     },
     "execution_count": 10,
     "metadata": {},
     "output_type": "execute_result"
    }
   ],
   "source": [
    "twocols=['continent','case_status']\n",
    "visa_f[twocols]"
   ]
  },
  {
   "cell_type": "code",
   "execution_count": 11,
   "id": "002fb90d-2613-4359-b3d9-699741de0cc8",
   "metadata": {},
   "outputs": [
    {
     "data": {
      "text/plain": [
       "Index(['case_id', 'continent', 'education_of_employee', 'has_job_experience',\n",
       "       'requires_job_training', 'no_of_employees', 'yr_of_estab',\n",
       "       'region_of_employment', 'prevailing_wage', 'unit_of_wage',\n",
       "       'full_time_position', 'case_status'],\n",
       "      dtype='object')"
      ]
     },
     "execution_count": 11,
     "metadata": {},
     "output_type": "execute_result"
    }
   ],
   "source": [
    "#find the number of applicants continent wise\n",
    "# how many applicants are of asia .\n",
    "visa_f.columns"
   ]
  },
  {
   "cell_type": "code",
   "execution_count": 12,
   "id": "7b2ba100-60cd-4dc8-afe9-ed7cf732aba1",
   "metadata": {},
   "outputs": [
    {
     "data": {
      "text/plain": [
       "0          Asia\n",
       "1          Asia\n",
       "2          Asia\n",
       "3          Asia\n",
       "4        Africa\n",
       "          ...  \n",
       "25475      Asia\n",
       "25476      Asia\n",
       "25477      Asia\n",
       "25478      Asia\n",
       "25479      Asia\n",
       "Name: continent, Length: 25480, dtype: object"
      ]
     },
     "execution_count": 12,
     "metadata": {},
     "output_type": "execute_result"
    }
   ],
   "source": [
    "visa_f['continent']"
   ]
  },
  {
   "cell_type": "code",
   "execution_count": 13,
   "id": "f014a2a0-b1b7-441b-a2de-7102c529eecc",
   "metadata": {},
   "outputs": [
    {
     "data": {
      "text/plain": [
       "array(['Asia', 'Africa', 'North America', 'Europe', 'South America',\n",
       "       'Oceania'], dtype=object)"
      ]
     },
     "execution_count": 13,
     "metadata": {},
     "output_type": "execute_result"
    }
   ],
   "source": [
    "#unique method\n",
    "#it will provide how many unique values are present in the columnn\n",
    "visa_f['continent'].unique()\n"
   ]
  },
  {
   "cell_type": "code",
   "execution_count": 14,
   "id": "d0c096da-2b42-492a-8a00-8686c6263699",
   "metadata": {},
   "outputs": [
    {
     "data": {
      "text/plain": [
       "6"
      ]
     },
     "execution_count": 14,
     "metadata": {},
     "output_type": "execute_result"
    }
   ],
   "source": [
    "len(visa_f['continent'].unique())"
   ]
  },
  {
   "cell_type": "code",
   "execution_count": 15,
   "id": "131395a2-1715-469a-b1c0-ad18664070b6",
   "metadata": {},
   "outputs": [
    {
     "data": {
      "text/plain": [
       "6"
      ]
     },
     "execution_count": 15,
     "metadata": {},
     "output_type": "execute_result"
    }
   ],
   "source": [
    "visa_f['continent'].nunique() #nunique = count of unique items\n"
   ]
  },
  {
   "cell_type": "code",
   "execution_count": 16,
   "id": "7c5d2213-e924-4517-8d6d-597e238672fa",
   "metadata": {},
   "outputs": [
    {
     "data": {
      "text/plain": [
       "0         True\n",
       "1         True\n",
       "2         True\n",
       "3         True\n",
       "4        False\n",
       "         ...  \n",
       "25475     True\n",
       "25476     True\n",
       "25477     True\n",
       "25478     True\n",
       "25479     True\n",
       "Name: continent, Length: 25480, dtype: bool"
      ]
     },
     "execution_count": 16,
     "metadata": {},
     "output_type": "execute_result"
    }
   ],
   "source": [
    "visa_f['continent']=='Asia'"
   ]
  },
  {
   "cell_type": "code",
   "execution_count": 17,
   "id": "d113c042-fc79-44c7-a018-4e44aa5db76e",
   "metadata": {},
   "outputs": [
    {
     "data": {
      "text/html": [
       "<div>\n",
       "<style scoped>\n",
       "    .dataframe tbody tr th:only-of-type {\n",
       "        vertical-align: middle;\n",
       "    }\n",
       "\n",
       "    .dataframe tbody tr th {\n",
       "        vertical-align: top;\n",
       "    }\n",
       "\n",
       "    .dataframe thead th {\n",
       "        text-align: right;\n",
       "    }\n",
       "</style>\n",
       "<table border=\"1\" class=\"dataframe\">\n",
       "  <thead>\n",
       "    <tr style=\"text-align: right;\">\n",
       "      <th></th>\n",
       "      <th>case_id</th>\n",
       "      <th>continent</th>\n",
       "      <th>education_of_employee</th>\n",
       "      <th>has_job_experience</th>\n",
       "      <th>requires_job_training</th>\n",
       "      <th>no_of_employees</th>\n",
       "      <th>yr_of_estab</th>\n",
       "      <th>region_of_employment</th>\n",
       "      <th>prevailing_wage</th>\n",
       "      <th>unit_of_wage</th>\n",
       "      <th>full_time_position</th>\n",
       "      <th>case_status</th>\n",
       "    </tr>\n",
       "  </thead>\n",
       "  <tbody>\n",
       "    <tr>\n",
       "      <th>0</th>\n",
       "      <td>EZYV01</td>\n",
       "      <td>Asia</td>\n",
       "      <td>High School</td>\n",
       "      <td>N</td>\n",
       "      <td>N</td>\n",
       "      <td>14513</td>\n",
       "      <td>2007</td>\n",
       "      <td>West</td>\n",
       "      <td>592.2029</td>\n",
       "      <td>Hour</td>\n",
       "      <td>Y</td>\n",
       "      <td>Denied</td>\n",
       "    </tr>\n",
       "    <tr>\n",
       "      <th>1</th>\n",
       "      <td>EZYV02</td>\n",
       "      <td>Asia</td>\n",
       "      <td>Master's</td>\n",
       "      <td>Y</td>\n",
       "      <td>N</td>\n",
       "      <td>2412</td>\n",
       "      <td>2002</td>\n",
       "      <td>Northeast</td>\n",
       "      <td>83425.6500</td>\n",
       "      <td>Year</td>\n",
       "      <td>Y</td>\n",
       "      <td>Certified</td>\n",
       "    </tr>\n",
       "    <tr>\n",
       "      <th>2</th>\n",
       "      <td>EZYV03</td>\n",
       "      <td>Asia</td>\n",
       "      <td>Bachelor's</td>\n",
       "      <td>N</td>\n",
       "      <td>Y</td>\n",
       "      <td>44444</td>\n",
       "      <td>2008</td>\n",
       "      <td>West</td>\n",
       "      <td>122996.8600</td>\n",
       "      <td>Year</td>\n",
       "      <td>Y</td>\n",
       "      <td>Denied</td>\n",
       "    </tr>\n",
       "    <tr>\n",
       "      <th>3</th>\n",
       "      <td>EZYV04</td>\n",
       "      <td>Asia</td>\n",
       "      <td>Bachelor's</td>\n",
       "      <td>N</td>\n",
       "      <td>N</td>\n",
       "      <td>98</td>\n",
       "      <td>1897</td>\n",
       "      <td>West</td>\n",
       "      <td>83434.0300</td>\n",
       "      <td>Year</td>\n",
       "      <td>Y</td>\n",
       "      <td>Denied</td>\n",
       "    </tr>\n",
       "    <tr>\n",
       "      <th>5</th>\n",
       "      <td>EZYV06</td>\n",
       "      <td>Asia</td>\n",
       "      <td>Master's</td>\n",
       "      <td>Y</td>\n",
       "      <td>N</td>\n",
       "      <td>2339</td>\n",
       "      <td>2012</td>\n",
       "      <td>South</td>\n",
       "      <td>78252.1400</td>\n",
       "      <td>Year</td>\n",
       "      <td>Y</td>\n",
       "      <td>Certified</td>\n",
       "    </tr>\n",
       "    <tr>\n",
       "      <th>...</th>\n",
       "      <td>...</td>\n",
       "      <td>...</td>\n",
       "      <td>...</td>\n",
       "      <td>...</td>\n",
       "      <td>...</td>\n",
       "      <td>...</td>\n",
       "      <td>...</td>\n",
       "      <td>...</td>\n",
       "      <td>...</td>\n",
       "      <td>...</td>\n",
       "      <td>...</td>\n",
       "      <td>...</td>\n",
       "    </tr>\n",
       "    <tr>\n",
       "      <th>25475</th>\n",
       "      <td>EZYV25476</td>\n",
       "      <td>Asia</td>\n",
       "      <td>Bachelor's</td>\n",
       "      <td>Y</td>\n",
       "      <td>Y</td>\n",
       "      <td>2601</td>\n",
       "      <td>2008</td>\n",
       "      <td>South</td>\n",
       "      <td>77092.5700</td>\n",
       "      <td>Year</td>\n",
       "      <td>Y</td>\n",
       "      <td>Certified</td>\n",
       "    </tr>\n",
       "    <tr>\n",
       "      <th>25476</th>\n",
       "      <td>EZYV25477</td>\n",
       "      <td>Asia</td>\n",
       "      <td>High School</td>\n",
       "      <td>Y</td>\n",
       "      <td>N</td>\n",
       "      <td>3274</td>\n",
       "      <td>2006</td>\n",
       "      <td>Northeast</td>\n",
       "      <td>279174.7900</td>\n",
       "      <td>Year</td>\n",
       "      <td>Y</td>\n",
       "      <td>Certified</td>\n",
       "    </tr>\n",
       "    <tr>\n",
       "      <th>25477</th>\n",
       "      <td>EZYV25478</td>\n",
       "      <td>Asia</td>\n",
       "      <td>Master's</td>\n",
       "      <td>Y</td>\n",
       "      <td>N</td>\n",
       "      <td>1121</td>\n",
       "      <td>1910</td>\n",
       "      <td>South</td>\n",
       "      <td>146298.8500</td>\n",
       "      <td>Year</td>\n",
       "      <td>N</td>\n",
       "      <td>Certified</td>\n",
       "    </tr>\n",
       "    <tr>\n",
       "      <th>25478</th>\n",
       "      <td>EZYV25479</td>\n",
       "      <td>Asia</td>\n",
       "      <td>Master's</td>\n",
       "      <td>Y</td>\n",
       "      <td>Y</td>\n",
       "      <td>1918</td>\n",
       "      <td>1887</td>\n",
       "      <td>West</td>\n",
       "      <td>86154.7700</td>\n",
       "      <td>Year</td>\n",
       "      <td>Y</td>\n",
       "      <td>Certified</td>\n",
       "    </tr>\n",
       "    <tr>\n",
       "      <th>25479</th>\n",
       "      <td>EZYV25480</td>\n",
       "      <td>Asia</td>\n",
       "      <td>Bachelor's</td>\n",
       "      <td>Y</td>\n",
       "      <td>N</td>\n",
       "      <td>3195</td>\n",
       "      <td>1960</td>\n",
       "      <td>Midwest</td>\n",
       "      <td>70876.9100</td>\n",
       "      <td>Year</td>\n",
       "      <td>Y</td>\n",
       "      <td>Certified</td>\n",
       "    </tr>\n",
       "  </tbody>\n",
       "</table>\n",
       "<p>16861 rows × 12 columns</p>\n",
       "</div>"
      ],
      "text/plain": [
       "         case_id continent education_of_employee has_job_experience  \\\n",
       "0         EZYV01      Asia           High School                  N   \n",
       "1         EZYV02      Asia              Master's                  Y   \n",
       "2         EZYV03      Asia            Bachelor's                  N   \n",
       "3         EZYV04      Asia            Bachelor's                  N   \n",
       "5         EZYV06      Asia              Master's                  Y   \n",
       "...          ...       ...                   ...                ...   \n",
       "25475  EZYV25476      Asia            Bachelor's                  Y   \n",
       "25476  EZYV25477      Asia           High School                  Y   \n",
       "25477  EZYV25478      Asia              Master's                  Y   \n",
       "25478  EZYV25479      Asia              Master's                  Y   \n",
       "25479  EZYV25480      Asia            Bachelor's                  Y   \n",
       "\n",
       "      requires_job_training  no_of_employees  yr_of_estab  \\\n",
       "0                         N            14513         2007   \n",
       "1                         N             2412         2002   \n",
       "2                         Y            44444         2008   \n",
       "3                         N               98         1897   \n",
       "5                         N             2339         2012   \n",
       "...                     ...              ...          ...   \n",
       "25475                     Y             2601         2008   \n",
       "25476                     N             3274         2006   \n",
       "25477                     N             1121         1910   \n",
       "25478                     Y             1918         1887   \n",
       "25479                     N             3195         1960   \n",
       "\n",
       "      region_of_employment  prevailing_wage unit_of_wage full_time_position  \\\n",
       "0                     West         592.2029         Hour                  Y   \n",
       "1                Northeast       83425.6500         Year                  Y   \n",
       "2                     West      122996.8600         Year                  Y   \n",
       "3                     West       83434.0300         Year                  Y   \n",
       "5                    South       78252.1400         Year                  Y   \n",
       "...                    ...              ...          ...                ...   \n",
       "25475                South       77092.5700         Year                  Y   \n",
       "25476            Northeast      279174.7900         Year                  Y   \n",
       "25477                South      146298.8500         Year                  N   \n",
       "25478                 West       86154.7700         Year                  Y   \n",
       "25479              Midwest       70876.9100         Year                  Y   \n",
       "\n",
       "      case_status  \n",
       "0          Denied  \n",
       "1       Certified  \n",
       "2          Denied  \n",
       "3          Denied  \n",
       "5       Certified  \n",
       "...           ...  \n",
       "25475   Certified  \n",
       "25476   Certified  \n",
       "25477   Certified  \n",
       "25478   Certified  \n",
       "25479   Certified  \n",
       "\n",
       "[16861 rows x 12 columns]"
      ]
     },
     "execution_count": 17,
     "metadata": {},
     "output_type": "execute_result"
    }
   ],
   "source": [
    "asia=visa_f['continent']=='Asia'\n",
    "visa_f[asia]\n"
   ]
  },
  {
   "cell_type": "code",
   "execution_count": 18,
   "id": "ce81007c-8013-4130-9484-58132d097b91",
   "metadata": {},
   "outputs": [
    {
     "data": {
      "text/plain": [
       "16861"
      ]
     },
     "execution_count": 18,
     "metadata": {},
     "output_type": "execute_result"
    }
   ],
   "source": [
    "len(visa_f[asia])"
   ]
  },
  {
   "cell_type": "code",
   "execution_count": 19,
   "id": "29420a8e-ebd9-4d68-96fb-04c4f67bda44",
   "metadata": {},
   "outputs": [
    {
     "name": "stdout",
     "output_type": "stream",
     "text": [
      "count of Asia is 16861\n",
      "count of Africa is 551\n",
      "count of North America is 3292\n",
      "count of Europe is 3732\n",
      "count of South America is 852\n",
      "count of Oceania is 192\n"
     ]
    }
   ],
   "source": [
    "for i in visa_f['continent'].unique():\n",
    "    con=visa_f['continent']==i\n",
    "    c=len(visa_f[con])\n",
    "    print(f'count of {i} is {c}')\n"
   ]
  },
  {
   "cell_type": "code",
   "execution_count": 20,
   "id": "7c08aca8-4ac5-40f7-8d0d-063220f0fcb2",
   "metadata": {},
   "outputs": [
    {
     "data": {
      "text/plain": [
       "[16861, 551, 3292, 3732, 852, 192]"
      ]
     },
     "execution_count": 20,
     "metadata": {},
     "output_type": "execute_result"
    }
   ],
   "source": [
    "l1=[]\n",
    "for i in visa_f['continent'].unique():\n",
    "    con=visa_f['continent']==i\n",
    "    l1.append(len(visa_f[con]))\n",
    "l1   "
   ]
  },
  {
   "cell_type": "code",
   "execution_count": 21,
   "id": "25fbebfb-0692-428c-b6a0-36e0b20fb431",
   "metadata": {},
   "outputs": [
    {
     "data": {
      "text/plain": [
       "['Asia', 'Africa', 'North America', 'Europe', 'South America', 'Oceania']"
      ]
     },
     "execution_count": 21,
     "metadata": {},
     "output_type": "execute_result"
    }
   ],
   "source": [
    "l2=[]\n",
    "for i in visa_f['continent'].unique():\n",
    "    l2.append(i)\n",
    "l2"
   ]
  },
  {
   "cell_type": "code",
   "execution_count": 22,
   "id": "bf976161-22f6-4f2c-8eef-8b35257b7d77",
   "metadata": {},
   "outputs": [
    {
     "data": {
      "text/html": [
       "<div>\n",
       "<style scoped>\n",
       "    .dataframe tbody tr th:only-of-type {\n",
       "        vertical-align: middle;\n",
       "    }\n",
       "\n",
       "    .dataframe tbody tr th {\n",
       "        vertical-align: top;\n",
       "    }\n",
       "\n",
       "    .dataframe thead th {\n",
       "        text-align: right;\n",
       "    }\n",
       "</style>\n",
       "<table border=\"1\" class=\"dataframe\">\n",
       "  <thead>\n",
       "    <tr style=\"text-align: right;\">\n",
       "      <th></th>\n",
       "      <th>continents</th>\n",
       "      <th>no. of applicants</th>\n",
       "    </tr>\n",
       "  </thead>\n",
       "  <tbody>\n",
       "    <tr>\n",
       "      <th>0</th>\n",
       "      <td>Asia</td>\n",
       "      <td>16861</td>\n",
       "    </tr>\n",
       "    <tr>\n",
       "      <th>1</th>\n",
       "      <td>Africa</td>\n",
       "      <td>551</td>\n",
       "    </tr>\n",
       "    <tr>\n",
       "      <th>2</th>\n",
       "      <td>North America</td>\n",
       "      <td>3292</td>\n",
       "    </tr>\n",
       "    <tr>\n",
       "      <th>3</th>\n",
       "      <td>Europe</td>\n",
       "      <td>3732</td>\n",
       "    </tr>\n",
       "    <tr>\n",
       "      <th>4</th>\n",
       "      <td>South America</td>\n",
       "      <td>852</td>\n",
       "    </tr>\n",
       "    <tr>\n",
       "      <th>5</th>\n",
       "      <td>Oceania</td>\n",
       "      <td>192</td>\n",
       "    </tr>\n",
       "  </tbody>\n",
       "</table>\n",
       "</div>"
      ],
      "text/plain": [
       "      continents  no. of applicants\n",
       "0           Asia              16861\n",
       "1         Africa                551\n",
       "2  North America               3292\n",
       "3         Europe               3732\n",
       "4  South America                852\n",
       "5        Oceania                192"
      ]
     },
     "execution_count": 22,
     "metadata": {},
     "output_type": "execute_result"
    }
   ],
   "source": [
    "dataframe2=pd.DataFrame(zip(l2,l1),columns=['continents','no. of applicants'])\n",
    "dataframe2.to_csv('continets_number.csv',index=False)\n",
    "new=pd.read_csv('continets_number.csv')\n",
    "new"
   ]
  },
  {
   "cell_type": "code",
   "execution_count": 23,
   "id": "a2cf2d02-176e-4883-ad34-7b34dbf7cdab",
   "metadata": {},
   "outputs": [
    {
     "data": {
      "text/plain": [
       "continent\n",
       "Asia             16861\n",
       "Europe            3732\n",
       "North America     3292\n",
       "South America      852\n",
       "Africa             551\n",
       "Oceania            192\n",
       "Name: count, dtype: int64"
      ]
     },
     "execution_count": 23,
     "metadata": {},
     "output_type": "execute_result"
    }
   ],
   "source": [
    "visa_f['continent'].value_counts()"
   ]
  },
  {
   "cell_type": "code",
   "execution_count": 24,
   "id": "89833026-1246-443f-b1f3-13533fb79608",
   "metadata": {},
   "outputs": [
    {
     "data": {
      "text/html": [
       "<div>\n",
       "<style scoped>\n",
       "    .dataframe tbody tr th:only-of-type {\n",
       "        vertical-align: middle;\n",
       "    }\n",
       "\n",
       "    .dataframe tbody tr th {\n",
       "        vertical-align: top;\n",
       "    }\n",
       "\n",
       "    .dataframe thead th {\n",
       "        text-align: right;\n",
       "    }\n",
       "</style>\n",
       "<table border=\"1\" class=\"dataframe\">\n",
       "  <thead>\n",
       "    <tr style=\"text-align: right;\">\n",
       "      <th></th>\n",
       "      <th>case_id</th>\n",
       "      <th>education_of_employee</th>\n",
       "      <th>has_job_experience</th>\n",
       "      <th>requires_job_training</th>\n",
       "      <th>no_of_employees</th>\n",
       "      <th>yr_of_estab</th>\n",
       "      <th>region_of_employment</th>\n",
       "      <th>prevailing_wage</th>\n",
       "      <th>unit_of_wage</th>\n",
       "      <th>full_time_position</th>\n",
       "      <th>case_status</th>\n",
       "    </tr>\n",
       "    <tr>\n",
       "      <th>continent</th>\n",
       "      <th></th>\n",
       "      <th></th>\n",
       "      <th></th>\n",
       "      <th></th>\n",
       "      <th></th>\n",
       "      <th></th>\n",
       "      <th></th>\n",
       "      <th></th>\n",
       "      <th></th>\n",
       "      <th></th>\n",
       "      <th></th>\n",
       "    </tr>\n",
       "  </thead>\n",
       "  <tbody>\n",
       "    <tr>\n",
       "      <th>Africa</th>\n",
       "      <td>EZYV05</td>\n",
       "      <td>Master's</td>\n",
       "      <td>Y</td>\n",
       "      <td>N</td>\n",
       "      <td>1082</td>\n",
       "      <td>2005</td>\n",
       "      <td>South</td>\n",
       "      <td>149907.3900</td>\n",
       "      <td>Year</td>\n",
       "      <td>Y</td>\n",
       "      <td>Certified</td>\n",
       "    </tr>\n",
       "    <tr>\n",
       "      <th>Asia</th>\n",
       "      <td>EZYV01</td>\n",
       "      <td>High School</td>\n",
       "      <td>N</td>\n",
       "      <td>N</td>\n",
       "      <td>14513</td>\n",
       "      <td>2007</td>\n",
       "      <td>West</td>\n",
       "      <td>592.2029</td>\n",
       "      <td>Hour</td>\n",
       "      <td>Y</td>\n",
       "      <td>Denied</td>\n",
       "    </tr>\n",
       "    <tr>\n",
       "      <th>Europe</th>\n",
       "      <td>EZYV10</td>\n",
       "      <td>Doctorate</td>\n",
       "      <td>Y</td>\n",
       "      <td>N</td>\n",
       "      <td>2251</td>\n",
       "      <td>1995</td>\n",
       "      <td>South</td>\n",
       "      <td>67514.7600</td>\n",
       "      <td>Year</td>\n",
       "      <td>Y</td>\n",
       "      <td>Certified</td>\n",
       "    </tr>\n",
       "    <tr>\n",
       "      <th>North America</th>\n",
       "      <td>EZYV08</td>\n",
       "      <td>Bachelor's</td>\n",
       "      <td>Y</td>\n",
       "      <td>N</td>\n",
       "      <td>3035</td>\n",
       "      <td>1924</td>\n",
       "      <td>West</td>\n",
       "      <td>418.2298</td>\n",
       "      <td>Hour</td>\n",
       "      <td>Y</td>\n",
       "      <td>Denied</td>\n",
       "    </tr>\n",
       "    <tr>\n",
       "      <th>Oceania</th>\n",
       "      <td>EZYV242</td>\n",
       "      <td>Doctorate</td>\n",
       "      <td>Y</td>\n",
       "      <td>N</td>\n",
       "      <td>2871</td>\n",
       "      <td>2009</td>\n",
       "      <td>South</td>\n",
       "      <td>56606.5400</td>\n",
       "      <td>Month</td>\n",
       "      <td>Y</td>\n",
       "      <td>Certified</td>\n",
       "    </tr>\n",
       "    <tr>\n",
       "      <th>South America</th>\n",
       "      <td>EZYV122</td>\n",
       "      <td>Bachelor's</td>\n",
       "      <td>N</td>\n",
       "      <td>N</td>\n",
       "      <td>1415</td>\n",
       "      <td>1913</td>\n",
       "      <td>Northeast</td>\n",
       "      <td>53114.0200</td>\n",
       "      <td>Year</td>\n",
       "      <td>Y</td>\n",
       "      <td>Denied</td>\n",
       "    </tr>\n",
       "  </tbody>\n",
       "</table>\n",
       "</div>"
      ],
      "text/plain": [
       "               case_id education_of_employee has_job_experience  \\\n",
       "continent                                                         \n",
       "Africa          EZYV05              Master's                  Y   \n",
       "Asia            EZYV01           High School                  N   \n",
       "Europe          EZYV10             Doctorate                  Y   \n",
       "North America   EZYV08            Bachelor's                  Y   \n",
       "Oceania        EZYV242             Doctorate                  Y   \n",
       "South America  EZYV122            Bachelor's                  N   \n",
       "\n",
       "              requires_job_training  no_of_employees  yr_of_estab  \\\n",
       "continent                                                           \n",
       "Africa                            N             1082         2005   \n",
       "Asia                              N            14513         2007   \n",
       "Europe                            N             2251         1995   \n",
       "North America                     N             3035         1924   \n",
       "Oceania                           N             2871         2009   \n",
       "South America                     N             1415         1913   \n",
       "\n",
       "              region_of_employment  prevailing_wage unit_of_wage  \\\n",
       "continent                                                          \n",
       "Africa                       South      149907.3900         Year   \n",
       "Asia                          West         592.2029         Hour   \n",
       "Europe                       South       67514.7600         Year   \n",
       "North America                 West         418.2298         Hour   \n",
       "Oceania                      South       56606.5400        Month   \n",
       "South America            Northeast       53114.0200         Year   \n",
       "\n",
       "              full_time_position case_status  \n",
       "continent                                     \n",
       "Africa                         Y   Certified  \n",
       "Asia                           Y      Denied  \n",
       "Europe                         Y   Certified  \n",
       "North America                  Y      Denied  \n",
       "Oceania                        Y   Certified  \n",
       "South America                  Y      Denied  "
      ]
     },
     "execution_count": 24,
     "metadata": {},
     "output_type": "execute_result"
    }
   ],
   "source": [
    "x=visa_f.groupby('continent')\n",
    "x.first()"
   ]
  },
  {
   "cell_type": "code",
   "execution_count": 25,
   "id": "cc1d5978-e97b-4065-9849-f4d88f91b0c7",
   "metadata": {},
   "outputs": [
    {
     "data": {
      "text/html": [
       "<div>\n",
       "<style scoped>\n",
       "    .dataframe tbody tr th:only-of-type {\n",
       "        vertical-align: middle;\n",
       "    }\n",
       "\n",
       "    .dataframe tbody tr th {\n",
       "        vertical-align: top;\n",
       "    }\n",
       "\n",
       "    .dataframe thead th {\n",
       "        text-align: right;\n",
       "    }\n",
       "</style>\n",
       "<table border=\"1\" class=\"dataframe\">\n",
       "  <thead>\n",
       "    <tr style=\"text-align: right;\">\n",
       "      <th></th>\n",
       "      <th>label</th>\n",
       "      <th>count</th>\n",
       "    </tr>\n",
       "  </thead>\n",
       "  <tbody>\n",
       "    <tr>\n",
       "      <th>0</th>\n",
       "      <td>Asia</td>\n",
       "      <td>16861</td>\n",
       "    </tr>\n",
       "    <tr>\n",
       "      <th>1</th>\n",
       "      <td>Europe</td>\n",
       "      <td>3732</td>\n",
       "    </tr>\n",
       "    <tr>\n",
       "      <th>2</th>\n",
       "      <td>North America</td>\n",
       "      <td>3292</td>\n",
       "    </tr>\n",
       "    <tr>\n",
       "      <th>3</th>\n",
       "      <td>South America</td>\n",
       "      <td>852</td>\n",
       "    </tr>\n",
       "    <tr>\n",
       "      <th>4</th>\n",
       "      <td>Africa</td>\n",
       "      <td>551</td>\n",
       "    </tr>\n",
       "    <tr>\n",
       "      <th>5</th>\n",
       "      <td>Oceania</td>\n",
       "      <td>192</td>\n",
       "    </tr>\n",
       "  </tbody>\n",
       "</table>\n",
       "</div>"
      ],
      "text/plain": [
       "           label  count\n",
       "0           Asia  16861\n",
       "1         Europe   3732\n",
       "2  North America   3292\n",
       "3  South America    852\n",
       "4         Africa    551\n",
       "5        Oceania    192"
      ]
     },
     "execution_count": 25,
     "metadata": {},
     "output_type": "execute_result"
    }
   ],
   "source": [
    "cdf=visa_f['continent'].value_counts()\n",
    "keys=cdf.keys()\n",
    "val=cdf.values\n",
    "col=['label','count']\n",
    "df=pd.DataFrame(zip(keys,val),columns=col)\n",
    "df.to_csv('newcontintent.csv',index=False)\n",
    "df"
   ]
  },
  {
   "cell_type": "code",
   "execution_count": 26,
   "id": "b0d6ae36-4d54-42b9-ba7d-103c97ab1a77",
   "metadata": {},
   "outputs": [
    {
     "data": {
      "text/plain": [
       "['continent',\n",
       " 'education_of_employee',\n",
       " 'has_job_experience',\n",
       " 'requires_job_training',\n",
       " 'region_of_employment',\n",
       " 'unit_of_wage',\n",
       " 'full_time_position',\n",
       " 'case_status']"
      ]
     },
     "execution_count": 26,
     "metadata": {},
     "output_type": "execute_result"
    }
   ],
   "source": [
    "lisobj[1:]"
   ]
  },
  {
   "cell_type": "code",
   "execution_count": 27,
   "id": "36b21dca-4632-42eb-bf7b-4a4d9dbf161d",
   "metadata": {},
   "outputs": [
    {
     "name": "stdout",
     "output_type": "stream",
     "text": [
      "[WinError 183] Cannot create a file when that file already exists: 'C:\\\\Users\\\\debasish\\\\DS-AI\\\\N-IT\\\\datafiles\\\\visa_dataframes'\n"
     ]
    }
   ],
   "source": [
    "import os\n",
    "try:\n",
    "    root=os.getcwd()\n",
    "    r=f'{root}\\\\datafiles'\n",
    "    n='visa_dataframes'\n",
    "    di=os.path.join(r,n)\n",
    "    os.makedirs(di)\n",
    "except Exception as e:\n",
    "    print(e)\n",
    "for i in lisobj[1:]:\n",
    "    cdf=visa_f[i].value_counts()\n",
    "    keys=cdf.keys()\n",
    "    val=cdf.values\n",
    "    col=['label','count']\n",
    "    df=pd.DataFrame(zip(keys,val),columns=col)\n",
    "    df.to_csv(f'{di}\\\\{i}.csv',index=False)\n",
    "    "
   ]
  },
  {
   "cell_type": "code",
   "execution_count": 1,
   "id": "c206fb1a-8558-4cb7-9022-7ae1a6843876",
   "metadata": {},
   "outputs": [],
   "source": [
    "#dir(cdf)"
   ]
  },
  {
   "cell_type": "code",
   "execution_count": 29,
   "id": "38660205-d458-43cf-9c3c-90f29a0aeaa2",
   "metadata": {},
   "outputs": [
    {
     "data": {
      "text/plain": [
       "continent\n",
       "Asia             66.17\n",
       "Europe           14.65\n",
       "North America    12.92\n",
       "South America     3.34\n",
       "Africa            2.16\n",
       "Oceania           0.75\n",
       "Name: proportion, dtype: float64"
      ]
     },
     "execution_count": 29,
     "metadata": {},
     "output_type": "execute_result"
    }
   ],
   "source": [
    "cdf=visa_f['continent'].value_counts(normalize=True)\n",
    "(round(cdf*100,2))\n"
   ]
  },
  {
   "cell_type": "raw",
   "id": "575ef1cb-ac01-44bb-8148-454ec94a8fb2",
   "metadata": {},
   "source": [
    "#BAR CHART\n",
    "BAR CHART IS THE GRAPHICAL REPRESENTATION OF FREQUENCY TABLE\n",
    "BAR GRAPH IS THE PLOT BETWEEN COUNT AND CLASS\n",
    "WE NEED 1 CATEGORICAL COL AND ONE NUMERICAL COL\n",
    "WE WILL USE 'CATEGORICAL_NUMRBER ' CSV FILE\n",
    "- CAT COLS = CONTINENTS\n",
    "- NUM COLS= NO OD APPLICANTS\n",
    "PACKAGE - MATPLOTLIB"
   ]
  },
  {
   "cell_type": "code",
   "execution_count": 30,
   "id": "c51aa1cc-6e51-4ea5-8307-7b40c30e0b18",
   "metadata": {},
   "outputs": [
    {
     "data": {
      "text/html": [
       "<div>\n",
       "<style scoped>\n",
       "    .dataframe tbody tr th:only-of-type {\n",
       "        vertical-align: middle;\n",
       "    }\n",
       "\n",
       "    .dataframe tbody tr th {\n",
       "        vertical-align: top;\n",
       "    }\n",
       "\n",
       "    .dataframe thead th {\n",
       "        text-align: right;\n",
       "    }\n",
       "</style>\n",
       "<table border=\"1\" class=\"dataframe\">\n",
       "  <thead>\n",
       "    <tr style=\"text-align: right;\">\n",
       "      <th></th>\n",
       "      <th>continents</th>\n",
       "      <th>no. of applicants</th>\n",
       "    </tr>\n",
       "  </thead>\n",
       "  <tbody>\n",
       "    <tr>\n",
       "      <th>0</th>\n",
       "      <td>Asia</td>\n",
       "      <td>16861</td>\n",
       "    </tr>\n",
       "    <tr>\n",
       "      <th>1</th>\n",
       "      <td>Africa</td>\n",
       "      <td>551</td>\n",
       "    </tr>\n",
       "    <tr>\n",
       "      <th>2</th>\n",
       "      <td>North America</td>\n",
       "      <td>3292</td>\n",
       "    </tr>\n",
       "    <tr>\n",
       "      <th>3</th>\n",
       "      <td>Europe</td>\n",
       "      <td>3732</td>\n",
       "    </tr>\n",
       "    <tr>\n",
       "      <th>4</th>\n",
       "      <td>South America</td>\n",
       "      <td>852</td>\n",
       "    </tr>\n",
       "    <tr>\n",
       "      <th>5</th>\n",
       "      <td>Oceania</td>\n",
       "      <td>192</td>\n",
       "    </tr>\n",
       "  </tbody>\n",
       "</table>\n",
       "</div>"
      ],
      "text/plain": [
       "      continents  no. of applicants\n",
       "0           Asia              16861\n",
       "1         Africa                551\n",
       "2  North America               3292\n",
       "3         Europe               3732\n",
       "4  South America                852\n",
       "5        Oceania                192"
      ]
     },
     "execution_count": 30,
     "metadata": {},
     "output_type": "execute_result"
    }
   ],
   "source": [
    "dataframe2"
   ]
  },
  {
   "cell_type": "code",
   "execution_count": 31,
   "id": "9c5c6c2b-aa05-444e-a778-e6a3b4b89bdb",
   "metadata": {},
   "outputs": [
    {
     "data": {
      "text/html": [
       "<div>\n",
       "<style scoped>\n",
       "    .dataframe tbody tr th:only-of-type {\n",
       "        vertical-align: middle;\n",
       "    }\n",
       "\n",
       "    .dataframe tbody tr th {\n",
       "        vertical-align: top;\n",
       "    }\n",
       "\n",
       "    .dataframe thead th {\n",
       "        text-align: right;\n",
       "    }\n",
       "</style>\n",
       "<table border=\"1\" class=\"dataframe\">\n",
       "  <thead>\n",
       "    <tr style=\"text-align: right;\">\n",
       "      <th></th>\n",
       "      <th>label</th>\n",
       "      <th>count</th>\n",
       "    </tr>\n",
       "  </thead>\n",
       "  <tbody>\n",
       "    <tr>\n",
       "      <th>0</th>\n",
       "      <td>Asia</td>\n",
       "      <td>16861</td>\n",
       "    </tr>\n",
       "    <tr>\n",
       "      <th>1</th>\n",
       "      <td>Europe</td>\n",
       "      <td>3732</td>\n",
       "    </tr>\n",
       "    <tr>\n",
       "      <th>2</th>\n",
       "      <td>North America</td>\n",
       "      <td>3292</td>\n",
       "    </tr>\n",
       "    <tr>\n",
       "      <th>3</th>\n",
       "      <td>South America</td>\n",
       "      <td>852</td>\n",
       "    </tr>\n",
       "    <tr>\n",
       "      <th>4</th>\n",
       "      <td>Africa</td>\n",
       "      <td>551</td>\n",
       "    </tr>\n",
       "    <tr>\n",
       "      <th>5</th>\n",
       "      <td>Oceania</td>\n",
       "      <td>192</td>\n",
       "    </tr>\n",
       "  </tbody>\n",
       "</table>\n",
       "</div>"
      ],
      "text/plain": [
       "           label  count\n",
       "0           Asia  16861\n",
       "1         Europe   3732\n",
       "2  North America   3292\n",
       "3  South America    852\n",
       "4         Africa    551\n",
       "5        Oceania    192"
      ]
     },
     "execution_count": 31,
     "metadata": {},
     "output_type": "execute_result"
    }
   ],
   "source": [
    "cdf=visa_f['continent'].value_counts()\n",
    "keys=cdf.keys()\n",
    "val=cdf.values\n",
    "col=['label','count']\n",
    "d=pd.DataFrame(zip(keys,val),columns=col)\n",
    "#d.to_csv('newcontintent.csv',index=False)\n",
    "d"
   ]
  },
  {
   "cell_type": "code",
   "execution_count": 32,
   "id": "4f882e4f-959d-4465-88f5-751d70a491ea",
   "metadata": {
    "scrolled": true
   },
   "outputs": [
    {
     "data": {
      "image/png": "[encoded data removed]",
      "text/plain": [
       "<Figure size 640x480 with 1 Axes>"
      ]
     },
     "metadata": {},
     "output_type": "display_data"
    }
   ],
   "source": [
    "m.bar('continents','no. of applicants',data=dataframe2)\n",
    "m.xlabel('Continents')\n",
    "m.ylabel('No. of Applicants')\n",
    "m.title(\"CONTINENTS DATA\")\n",
    "m.show()\n"
   ]
  },
  {
   "cell_type": "code",
   "execution_count": null,
   "id": "029da5aa-15ec-4b5f-9324-9c7a3bd5edf2",
   "metadata": {},
   "outputs": [],
   "source": []
  },
  {
   "cell_type": "code",
   "execution_count": null,
   "id": "857327da-83b7-4abe-9517-b9f3eb5b4bf4",
   "metadata": {},
   "outputs": [],
   "source": []
  },
  {
   "cell_type": "code",
   "execution_count": 33,
   "id": "a8937d08-4a73-4117-be7d-27e7e2d6911d",
   "metadata": {},
   "outputs": [
    {
     "data": {
      "image/png": "[encoded data removed]",
      "text/plain": [
       "<Figure size 850x300 with 1 Axes>"
      ]
     },
     "metadata": {},
     "output_type": "display_data"
    },
    {
     "data": {
      "image/png": "[encoded data removed]",
      "text/plain": [
       "<Figure size 850x300 with 1 Axes>"
      ]
     },
     "metadata": {},
     "output_type": "display_data"
    },
    {
     "data": {
      "image/png": "[encoded data removed]",
      "text/plain": [
       "<Figure size 850x300 with 1 Axes>"
      ]
     },
     "metadata": {},
     "output_type": "display_data"
    },
    {
     "data": {
      "image/png": "[encoded data removed]",
      "text/plain": [
       "<Figure size 850x300 with 1 Axes>"
      ]
     },
     "metadata": {},
     "output_type": "display_data"
    },
    {
     "data": {
      "image/png": "[encoded data removed]",
      "text/plain": [
       "<Figure size 850x300 with 1 Axes>"
      ]
     },
     "metadata": {},
     "output_type": "display_data"
    },
    {
     "data": {
      "image/png": "[encoded data removed]",
      "text/plain": [
       "<Figure size 850x300 with 1 Axes>"
      ]
     },
     "metadata": {},
     "output_type": "display_data"
    },
    {
     "data": {
      "image/png": "[encoded data removed]",
      "text/plain": [
       "<Figure size 850x300 with 1 Axes>"
      ]
     },
     "metadata": {},
     "output_type": "display_data"
    },
    {
     "data": {
      "image/png": "[encoded data removed]",
      "text/plain": [
       "<Figure size 850x300 with 1 Axes>"
      ]
     },
     "metadata": {},
     "output_type": "display_data"
    }
   ],
   "source": [
    "for i in lisobj[1:]:\n",
    "    cdf=visa_f[i].value_counts()\n",
    "    keys=cdf.keys()\n",
    "    val=cdf.values\n",
    "    col=['label','count']\n",
    "    df=pd.DataFrame(zip(keys,val),columns=col)\n",
    "    m.figure(figsize=(8.5,3))\n",
    "    m.bar('label','count',width=0.5,data=df)\n",
    "    m.xlabel('label')\n",
    "    m.ylabel('count')\n",
    "    m.title(f\"{i} data\")\n",
    "    m.show()"
   ]
  },
  {
   "cell_type": "code",
   "execution_count": 34,
   "id": "4610c701-c6a7-482a-9a68-1f112fe6e81b",
   "metadata": {},
   "outputs": [
    {
     "data": {
      "text/plain": [
       "case_status\n",
       "Certified    66.79\n",
       "Denied       33.21\n",
       "Name: proportion, dtype: float64"
      ]
     },
     "execution_count": 34,
     "metadata": {},
     "output_type": "execute_result"
    }
   ],
   "source": [
    "cdf=visa_f['case_status'].value_counts(normalize=True)\n",
    "round(cdf*100,2)"
   ]
  },
  {
   "cell_type": "code",
   "execution_count": 35,
   "id": "0cbf8828-f4f1-4617-95a2-bb8a0c6d5cfd",
   "metadata": {},
   "outputs": [
    {
     "data": {
      "image/png": "[encoded data removed]",
      "text/plain": [
       "<Figure size 850x300 with 1 Axes>"
      ]
     },
     "metadata": {},
     "output_type": "display_data"
    }
   ],
   "source": [
    "cdf=visa_f['case_status'].value_counts()\n",
    "keys=cdf.keys()\n",
    "val=cdf.values\n",
    "col=['label','count']\n",
    "d=pd.DataFrame(zip(keys,val),columns=col)\n",
    "m.figure(figsize=(8.5,3))\n",
    "m.bar('label','count',width=0.5,data=d)\n",
    "m.xlabel('label')\n",
    "m.ylabel('count')\n",
    "m.title(f\"{i} data\")\n",
    "m.show()"
   ]
  },
  {
   "cell_type": "raw",
   "id": "db92519c-8c80-4b09-abda-c290c16f0b06",
   "metadata": {},
   "source": [
    "SEABORN\n",
    "USED FOR PLOTTING LIKE MATPLOTLIB\n",
    "IN MATPLOTLIB THE METHOD IS plt.bar()\n",
    "IN SEABORN THE METHOD IS countplot\n",
    "in matplotlib:\n",
    " we take raw data we create the dataframe and then pass the data frame to plot chart\n",
    "but in seaborn \n",
    "    it takes direct raw data means \n",
    "    we will provide the direct column  name \n",
    "    and we will also prvide the main data frame name."
   ]
  },
  {
   "cell_type": "code",
   "execution_count": 36,
   "id": "24ccd53e-9328-49c9-aae2-c582e7a6c83e",
   "metadata": {},
   "outputs": [
    {
     "data": {
      "text/plain": [
       "<Axes: xlabel='continent', ylabel='count'>"
      ]
     },
     "execution_count": 36,
     "metadata": {},
     "output_type": "execute_result"
    },
    {
     "data": {
      "image/png": "[encoded data removed]",
      "text/plain": [
       "<Figure size 640x480 with 1 Axes>"
      ]
     },
     "metadata": {},
     "output_type": "display_data"
    }
   ],
   "source": [
    "s.countplot(data=visa_f,x='continent')"
   ]
  },
  {
   "cell_type": "raw",
   "id": "52088dac-2ce0-446f-9578-2d3be7d4e616",
   "metadata": {},
   "source": [
    "#using for loop plot the bar chart of all caterogical columns\n",
    "we can use both matplotlib and seaborn\n",
    "seaborn : countplot requires only raw data , direct col name and main data\n",
    "matpoltlib= requires frequency table\n",
    "\n",
    "                    frome raw data we will make value count\n",
    "                    from values count we separate values and keys then create dataframe\n"
   ]
  },
  {
   "cell_type": "code",
   "execution_count": 37,
   "id": "71b08d91-87c2-464b-89d3-42dc78dc1060",
   "metadata": {},
   "outputs": [
    {
     "data": {
      "image/png": "[encoded data removed]",
      "text/plain": [
       "<Figure size 640x480 with 1 Axes>"
      ]
     },
     "metadata": {},
     "output_type": "display_data"
    }
   ],
   "source": [
    "for i in lisobj[1:]:\n",
    "    order=visa_f[i].value_counts().keys()\n",
    "    s.countplot(data=visa_f,x=i,order=order)\n",
    "    m.title(f\"{i} DATA\")\n",
    "   "
   ]
  },
  {
   "cell_type": "code",
   "execution_count": null,
   "id": "50113711-f7a8-43b8-9cb8-615c3b9947c2",
   "metadata": {},
   "outputs": [],
   "source": []
  },
  {
   "cell_type": "code",
   "execution_count": 38,
   "id": "e127ea83-3513-48bd-9f49-26554c4df782",
   "metadata": {},
   "outputs": [],
   "source": [
    "# makedirs create a leaf directory\n",
    "# means it will take the current working directory ans create one extra folder\n",
    "# here my python file in N-IT FOLDER\n",
    "# now i want to create new folder for graphs\n",
    "# which s N-IT/graphs\n",
    "# pass the full path in makwdirs()\n"
   ]
  },
  {
   "cell_type": "code",
   "execution_count": 39,
   "id": "7c118124-9247-41d4-a143-d800411a8ce5",
   "metadata": {},
   "outputs": [
    {
     "data": {
      "text/plain": [
       "'C:\\\\Users\\\\debasish\\\\DS-AI\\\\N-IT'"
      ]
     },
     "execution_count": 39,
     "metadata": {},
     "output_type": "execute_result"
    }
   ],
   "source": [
    "import os\n",
    "os.getcwd()\n"
   ]
  },
  {
   "cell_type": "code",
   "execution_count": 40,
   "id": "b2d3c56e-e9d1-47aa-a5e2-bef08d27b7e5",
   "metadata": {},
   "outputs": [],
   "source": [
    "#os.makedirs('C:\\\\Users\\\\debasish\\\\DS-AI\\\\N-IT\\\\graphs') // bad way to create"
   ]
  },
  {
   "cell_type": "code",
   "execution_count": 41,
   "id": "8505f8b1-b0c8-4bc2-91d2-2b3b1c076858",
   "metadata": {},
   "outputs": [
    {
     "name": "stdout",
     "output_type": "stream",
     "text": [
      "[WinError 183] Cannot create a file when that file already exists: 'C:\\\\Users\\\\debasish\\\\DS-AI\\\\N-IT\\\\datafiles\\\\visa_graphs'\n"
     ]
    }
   ],
   "source": [
    "try:\n",
    "    #step-1\n",
    "    root_dir=os.getcwd()\n",
    "    root=f'{root_dir}\\\\datafiles'\n",
    "    #step 2\n",
    "    new='visa_graphs'\n",
    "    new_dir=os.path.join(root,new)\n",
    "    os.makedirs(new_dir)\n",
    "except Exception as e:\n",
    "    print(e)"
   ]
  },
  {
   "cell_type": "code",
   "execution_count": 42,
   "id": "8eb6e554-0af5-42d6-9520-c3dc15ee42bf",
   "metadata": {},
   "outputs": [
    {
     "data": {
      "image/png": "[encoded data removed]",
      "text/plain": [
       "<Figure size 640x480 with 1 Axes>"
      ]
     },
     "metadata": {},
     "output_type": "display_data"
    }
   ],
   "source": [
    "for i in lisobj[1:]:\n",
    "    order=visa_f[i].value_counts().keys()\n",
    "    s.countplot(data=visa_f,x=i,order=order)\n",
    "    m.title(f\"{i} DATA\")\n",
    "    m.savefig(f'{new_dir}\\\\{i}.jpg')"
   ]
  },
  {
   "cell_type": "code",
   "execution_count": 43,
   "id": "5094ab9a-0a76-45ee-a0d2-a356de9c98e9",
   "metadata": {},
   "outputs": [
    {
     "data": {
      "text/plain": [
       "['case_status.csv',\n",
       " 'continent.csv',\n",
       " 'education_of_employee.csv',\n",
       " 'full_time_position.csv',\n",
       " 'has_job_experience.csv',\n",
       " 'region_of_employment.csv',\n",
       " 'requires_job_training.csv',\n",
       " 'unit_of_wage.csv']"
      ]
     },
     "execution_count": 43,
     "metadata": {},
     "output_type": "execute_result"
    }
   ],
   "source": [
    "os.listdir(di)\n"
   ]
  },
  {
   "cell_type": "code",
   "execution_count": 44,
   "id": "5b713c95-85c4-4550-a4bc-dde5ec04ee2a",
   "metadata": {},
   "outputs": [
    {
     "data": {
      "text/plain": [
       "['case_status.jpg',\n",
       " 'continent.jpg',\n",
       " 'education_of_employee.jpg',\n",
       " 'full_time_position.jpg',\n",
       " 'has_job_experience.jpg',\n",
       " 'region_of_employment.jpg',\n",
       " 'requires_job_training.jpg',\n",
       " 'unit_of_wage.jpg']"
      ]
     },
     "execution_count": 44,
     "metadata": {},
     "output_type": "execute_result"
    }
   ],
   "source": [
    "os.listdir(new_dir)"
   ]
  },
  {
   "cell_type": "code",
   "execution_count": null,
   "id": "f468db49-4ec2-48c2-9791-3e8c4564cbeb",
   "metadata": {},
   "outputs": [],
   "source": []
  },
  {
   "cell_type": "markdown",
   "id": "003ca07c-6917-471c-843d-3eacf7cb9337",
   "metadata": {},
   "source": [
    "SUB-PLOTS"
   ]
  },
  {
   "cell_type": "markdown",
   "id": "106ac0a4-814c-494c-aa04-03e85a1ac317",
   "metadata": {},
   "source": [
    "- if we have multiple plots when we aplly for loop it is giving one after another\n",
    "- it is hard to see all the graphs\n",
    "- subplots is a kind of matrix represenattion\n",
    "- suppose we have a 2x2 matrix means 4 values,means 4 plot we can can plot\n",
    "- 1st plot position=(2,2,1)(row,col,num)\n",
    "- 2nd plot position=(2,2,2)\n",
    "- 3rd plot position=(2,2,3)\n",
    "- 4th plot position=(2,2,4)\n",
    "- \n"
   ]
  },
  {
   "cell_type": "code",
   "execution_count": 47,
   "id": "e40d7b5f-f509-4eac-8463-5aff95bf00f2",
   "metadata": {},
   "outputs": [
    {
     "data": {
      "text/plain": [
       "<Axes: >"
      ]
     },
     "execution_count": 47,
     "metadata": {},
     "output_type": "execute_result"
    },
    {
     "data": {
      "image/png": "[encoded data removed]",
      "text/plain": [
       "<Figure size 640x480 with 4 Axes>"
      ]
     },
     "metadata": {},
     "output_type": "display_data"
    }
   ],
   "source": [
    "m.subplot(2,2,1)\n",
    "m.subplot(2,2,2)\n",
    "m.subplot(2,2,3)\n",
    "m.subplot(2,2,4)"
   ]
  },
  {
   "cell_type": "code",
   "execution_count": 48,
   "id": "e43e6ef4-611d-453e-ae3b-9cd29bd680c1",
   "metadata": {},
   "outputs": [
    {
     "data": {
      "image/png": "[encoded data removed]",
      "text/plain": [
       "<Figure size 640x480 with 8 Axes>"
      ]
     },
     "metadata": {},
     "output_type": "display_data"
    }
   ],
   "source": [
    "for i in range(1,9):\n",
    "    m.subplot(4,4,i)"
   ]
  },
  {
   "cell_type": "code",
   "execution_count": 49,
   "id": "b7fd549e-382f-4eb1-ab09-30a315b62d00",
   "metadata": {},
   "outputs": [
    {
     "data": {
      "text/plain": [
       "<Axes: >"
      ]
     },
     "execution_count": 49,
     "metadata": {},
     "output_type": "execute_result"
    },
    {
     "data": {
      "image/png": "[encoded data removed]",
      "text/plain": [
       "<Figure size 640x480 with 3 Axes>"
      ]
     },
     "metadata": {},
     "output_type": "display_data"
    }
   ],
   "source": [
    "m.subplot(1,3,1)\n",
    "m.subplot(1,3,2)\n",
    "m.subplot(1,3,3)"
   ]
  },
  {
   "cell_type": "code",
   "execution_count": 50,
   "id": "ae788a32-10e8-4b17-a3ec-da2d69cce4ce",
   "metadata": {},
   "outputs": [],
   "source": [
    "#read th data"
   ]
  },
  {
   "cell_type": "code",
   "execution_count": 51,
   "id": "b929b8cf-5e09-4f9d-907a-34e66d102b05",
   "metadata": {},
   "outputs": [
    {
     "data": {
      "text/plain": [
       "Index(['case_id', 'continent', 'education_of_employee', 'has_job_experience',\n",
       "       'requires_job_training', 'no_of_employees', 'yr_of_estab',\n",
       "       'region_of_employment', 'prevailing_wage', 'unit_of_wage',\n",
       "       'full_time_position', 'case_status'],\n",
       "      dtype='object')"
      ]
     },
     "execution_count": 51,
     "metadata": {},
     "output_type": "execute_result"
    }
   ],
   "source": [
    "visa_f=pd.read_csv(r\"C:\\Users\\debasish\\DS-AI\\N-IT\\datafiles\\Visadataset.csv\")\n",
    "visa_f.columns"
   ]
  },
  {
   "cell_type": "code",
   "execution_count": 52,
   "id": "46fd8930-3afa-4be5-baec-50649c7d7e7d",
   "metadata": {},
   "outputs": [
    {
     "data": {
      "text/plain": [
       "<Axes: xlabel='case_status', ylabel='count'>"
      ]
     },
     "execution_count": 52,
     "metadata": {},
     "output_type": "execute_result"
    },
    {
     "data": {
      "image/png": "[encoded data removed]",
      "text/plain": [
       "<Figure size 640x480 with 2 Axes>"
      ]
     },
     "metadata": {},
     "output_type": "display_data"
    }
   ],
   "source": [
    "m.subplot(1,2,1)\n",
    "s.countplot(x='continent',data=visa_f)\n",
    "m.subplot(1,2,2)\n",
    "s.countplot(x='case_status',data=visa_f)"
   ]
  },
  {
   "cell_type": "code",
   "execution_count": null,
   "id": "819e2fa9-6c9d-419c-8c52-08b6becbf25c",
   "metadata": {},
   "outputs": [],
   "source": []
  },
  {
   "cell_type": "code",
   "execution_count": 53,
   "id": "716bca0f-ac65-4fb3-be95-e7b530a5d10a",
   "metadata": {},
   "outputs": [],
   "source": [
    "# m.figure(figsize=(14,8))\n",
    "# m.subplot(1,3,1)\n",
    "# s.countplot(x='case_status',data=visa_f)\n",
    "# m.subplot(1,3,2)\n",
    "# s.countplot(x='prevailing_wage',data=visa_f)\n",
    "# m.subplot(1,3,3)\n",
    "# s.countplot(x='unit_of_wage',data=visa_f)"
   ]
  },
  {
   "cell_type": "code",
   "execution_count": 54,
   "id": "46a26336-57a1-483e-8106-dfb2b714b512",
   "metadata": {},
   "outputs": [],
   "source": [
    "# m.figure(figsize=(14,8))\n",
    "# m.subplot(2,2,1)\n",
    "# s.countplot(x='case_status',data=visa_f)\n",
    "# m.subplot(2,2,2)\n",
    "# s.countplot(x='prevailing_wage',data=visa_f)\n",
    "# m.subplot(2,2,3)\n",
    "# s.countplot(x='unit_of_wage',data=visa_f)\n",
    "# m.subplot(2,2,3)\n",
    "# s.countplot(x='has_job_experience',data=visa_f)\n",
    "# m.show()"
   ]
  },
  {
   "cell_type": "code",
   "execution_count": 55,
   "id": "998d76b8-2c1b-4bd7-8186-02f55deab327",
   "metadata": {},
   "outputs": [
    {
     "data": {
      "image/png": "[encoded data removed]",
      "text/plain": [
       "<Figure size 1300x800 with 1 Axes>"
      ]
     },
     "metadata": {},
     "output_type": "display_data"
    },
    {
     "data": {
      "image/png": "[encoded data removed]",
      "text/plain": [
       "<Figure size 1300x800 with 1 Axes>"
      ]
     },
     "metadata": {},
     "output_type": "display_data"
    },
    {
     "data": {
      "image/png": "[encoded data removed]",
      "text/plain": [
       "<Figure size 1300x800 with 1 Axes>"
      ]
     },
     "metadata": {},
     "output_type": "display_data"
    },
    {
     "data": {
      "image/png": "[encoded data removed]",
      "text/plain": [
       "<Figure size 1300x800 with 1 Axes>"
      ]
     },
     "metadata": {},
     "output_type": "display_data"
    },
    {
     "data": {
      "image/png": "[encoded data removed]",
      "text/plain": [
       "<Figure size 1300x800 with 1 Axes>"
      ]
     },
     "metadata": {},
     "output_type": "display_data"
    },
    {
     "data": {
      "image/png": "[encoded data removed]",
      "text/plain": [
       "<Figure size 1300x800 with 1 Axes>"
      ]
     },
     "metadata": {},
     "output_type": "display_data"
    },
    {
     "data": {
      "image/png": "[encoded data removed]",
      "text/plain": [
       "<Figure size 1300x800 with 1 Axes>"
      ]
     },
     "metadata": {},
     "output_type": "display_data"
    }
   ],
   "source": [
    "col=lisobj[1:]\n",
    "for i in range(1,len(col)):\n",
    "    m.figure(figsize=(13,8))\n",
    "    m.subplot(3,3,i)\n",
    "    s.countplot(x=col[i],data=visa_f)\n",
    "    "
   ]
  },
  {
   "cell_type": "markdown",
   "id": "49e84bb1-6e4b-4437-a92f-b6d7bdab429e",
   "metadata": {},
   "source": [
    "**Method**"
   ]
  },
  {
   "cell_type": "raw",
   "id": "66f65c7a-fb62-4255-bdbf-784da598f2af",
   "metadata": {},
   "source": [
    "step 1= import the packages\n",
    "step2= read the data\n",
    "step 3 = make categorical and numerical data analysis"
   ]
  },
  {
   "cell_type": "code",
   "execution_count": 57,
   "id": "50f3b44a-0e4e-4030-b983-a0c68cafda51",
   "metadata": {},
   "outputs": [
    {
     "data": {
      "text/html": [
       "<div>\n",
       "<style scoped>\n",
       "    .dataframe tbody tr th:only-of-type {\n",
       "        vertical-align: middle;\n",
       "    }\n",
       "\n",
       "    .dataframe tbody tr th {\n",
       "        vertical-align: top;\n",
       "    }\n",
       "\n",
       "    .dataframe thead th {\n",
       "        text-align: right;\n",
       "    }\n",
       "</style>\n",
       "<table border=\"1\" class=\"dataframe\">\n",
       "  <thead>\n",
       "    <tr style=\"text-align: right;\">\n",
       "      <th></th>\n",
       "      <th>case_id</th>\n",
       "      <th>continent</th>\n",
       "      <th>education_of_employee</th>\n",
       "      <th>has_job_experience</th>\n",
       "      <th>requires_job_training</th>\n",
       "      <th>no_of_employees</th>\n",
       "      <th>yr_of_estab</th>\n",
       "      <th>region_of_employment</th>\n",
       "      <th>prevailing_wage</th>\n",
       "      <th>unit_of_wage</th>\n",
       "      <th>full_time_position</th>\n",
       "      <th>case_status</th>\n",
       "    </tr>\n",
       "  </thead>\n",
       "  <tbody>\n",
       "    <tr>\n",
       "      <th>0</th>\n",
       "      <td>EZYV01</td>\n",
       "      <td>Asia</td>\n",
       "      <td>High School</td>\n",
       "      <td>N</td>\n",
       "      <td>N</td>\n",
       "      <td>14513</td>\n",
       "      <td>2007</td>\n",
       "      <td>West</td>\n",
       "      <td>592.2029</td>\n",
       "      <td>Hour</td>\n",
       "      <td>Y</td>\n",
       "      <td>Denied</td>\n",
       "    </tr>\n",
       "    <tr>\n",
       "      <th>1</th>\n",
       "      <td>EZYV02</td>\n",
       "      <td>Asia</td>\n",
       "      <td>Master's</td>\n",
       "      <td>Y</td>\n",
       "      <td>N</td>\n",
       "      <td>2412</td>\n",
       "      <td>2002</td>\n",
       "      <td>Northeast</td>\n",
       "      <td>83425.6500</td>\n",
       "      <td>Year</td>\n",
       "      <td>Y</td>\n",
       "      <td>Certified</td>\n",
       "    </tr>\n",
       "    <tr>\n",
       "      <th>2</th>\n",
       "      <td>EZYV03</td>\n",
       "      <td>Asia</td>\n",
       "      <td>Bachelor's</td>\n",
       "      <td>N</td>\n",
       "      <td>Y</td>\n",
       "      <td>44444</td>\n",
       "      <td>2008</td>\n",
       "      <td>West</td>\n",
       "      <td>122996.8600</td>\n",
       "      <td>Year</td>\n",
       "      <td>Y</td>\n",
       "      <td>Denied</td>\n",
       "    </tr>\n",
       "    <tr>\n",
       "      <th>3</th>\n",
       "      <td>EZYV04</td>\n",
       "      <td>Asia</td>\n",
       "      <td>Bachelor's</td>\n",
       "      <td>N</td>\n",
       "      <td>N</td>\n",
       "      <td>98</td>\n",
       "      <td>1897</td>\n",
       "      <td>West</td>\n",
       "      <td>83434.0300</td>\n",
       "      <td>Year</td>\n",
       "      <td>Y</td>\n",
       "      <td>Denied</td>\n",
       "    </tr>\n",
       "    <tr>\n",
       "      <th>4</th>\n",
       "      <td>EZYV05</td>\n",
       "      <td>Africa</td>\n",
       "      <td>Master's</td>\n",
       "      <td>Y</td>\n",
       "      <td>N</td>\n",
       "      <td>1082</td>\n",
       "      <td>2005</td>\n",
       "      <td>South</td>\n",
       "      <td>149907.3900</td>\n",
       "      <td>Year</td>\n",
       "      <td>Y</td>\n",
       "      <td>Certified</td>\n",
       "    </tr>\n",
       "    <tr>\n",
       "      <th>...</th>\n",
       "      <td>...</td>\n",
       "      <td>...</td>\n",
       "      <td>...</td>\n",
       "      <td>...</td>\n",
       "      <td>...</td>\n",
       "      <td>...</td>\n",
       "      <td>...</td>\n",
       "      <td>...</td>\n",
       "      <td>...</td>\n",
       "      <td>...</td>\n",
       "      <td>...</td>\n",
       "      <td>...</td>\n",
       "    </tr>\n",
       "    <tr>\n",
       "      <th>25475</th>\n",
       "      <td>EZYV25476</td>\n",
       "      <td>Asia</td>\n",
       "      <td>Bachelor's</td>\n",
       "      <td>Y</td>\n",
       "      <td>Y</td>\n",
       "      <td>2601</td>\n",
       "      <td>2008</td>\n",
       "      <td>South</td>\n",
       "      <td>77092.5700</td>\n",
       "      <td>Year</td>\n",
       "      <td>Y</td>\n",
       "      <td>Certified</td>\n",
       "    </tr>\n",
       "    <tr>\n",
       "      <th>25476</th>\n",
       "      <td>EZYV25477</td>\n",
       "      <td>Asia</td>\n",
       "      <td>High School</td>\n",
       "      <td>Y</td>\n",
       "      <td>N</td>\n",
       "      <td>3274</td>\n",
       "      <td>2006</td>\n",
       "      <td>Northeast</td>\n",
       "      <td>279174.7900</td>\n",
       "      <td>Year</td>\n",
       "      <td>Y</td>\n",
       "      <td>Certified</td>\n",
       "    </tr>\n",
       "    <tr>\n",
       "      <th>25477</th>\n",
       "      <td>EZYV25478</td>\n",
       "      <td>Asia</td>\n",
       "      <td>Master's</td>\n",
       "      <td>Y</td>\n",
       "      <td>N</td>\n",
       "      <td>1121</td>\n",
       "      <td>1910</td>\n",
       "      <td>South</td>\n",
       "      <td>146298.8500</td>\n",
       "      <td>Year</td>\n",
       "      <td>N</td>\n",
       "      <td>Certified</td>\n",
       "    </tr>\n",
       "    <tr>\n",
       "      <th>25478</th>\n",
       "      <td>EZYV25479</td>\n",
       "      <td>Asia</td>\n",
       "      <td>Master's</td>\n",
       "      <td>Y</td>\n",
       "      <td>Y</td>\n",
       "      <td>1918</td>\n",
       "      <td>1887</td>\n",
       "      <td>West</td>\n",
       "      <td>86154.7700</td>\n",
       "      <td>Year</td>\n",
       "      <td>Y</td>\n",
       "      <td>Certified</td>\n",
       "    </tr>\n",
       "    <tr>\n",
       "      <th>25479</th>\n",
       "      <td>EZYV25480</td>\n",
       "      <td>Asia</td>\n",
       "      <td>Bachelor's</td>\n",
       "      <td>Y</td>\n",
       "      <td>N</td>\n",
       "      <td>3195</td>\n",
       "      <td>1960</td>\n",
       "      <td>Midwest</td>\n",
       "      <td>70876.9100</td>\n",
       "      <td>Year</td>\n",
       "      <td>Y</td>\n",
       "      <td>Certified</td>\n",
       "    </tr>\n",
       "  </tbody>\n",
       "</table>\n",
       "<p>25480 rows × 12 columns</p>\n",
       "</div>"
      ],
      "text/plain": [
       "         case_id continent education_of_employee has_job_experience  \\\n",
       "0         EZYV01      Asia           High School                  N   \n",
       "1         EZYV02      Asia              Master's                  Y   \n",
       "2         EZYV03      Asia            Bachelor's                  N   \n",
       "3         EZYV04      Asia            Bachelor's                  N   \n",
       "4         EZYV05    Africa              Master's                  Y   \n",
       "...          ...       ...                   ...                ...   \n",
       "25475  EZYV25476      Asia            Bachelor's                  Y   \n",
       "25476  EZYV25477      Asia           High School                  Y   \n",
       "25477  EZYV25478      Asia              Master's                  Y   \n",
       "25478  EZYV25479      Asia              Master's                  Y   \n",
       "25479  EZYV25480      Asia            Bachelor's                  Y   \n",
       "\n",
       "      requires_job_training  no_of_employees  yr_of_estab  \\\n",
       "0                         N            14513         2007   \n",
       "1                         N             2412         2002   \n",
       "2                         Y            44444         2008   \n",
       "3                         N               98         1897   \n",
       "4                         N             1082         2005   \n",
       "...                     ...              ...          ...   \n",
       "25475                     Y             2601         2008   \n",
       "25476                     N             3274         2006   \n",
       "25477                     N             1121         1910   \n",
       "25478                     Y             1918         1887   \n",
       "25479                     N             3195         1960   \n",
       "\n",
       "      region_of_employment  prevailing_wage unit_of_wage full_time_position  \\\n",
       "0                     West         592.2029         Hour                  Y   \n",
       "1                Northeast       83425.6500         Year                  Y   \n",
       "2                     West      122996.8600         Year                  Y   \n",
       "3                     West       83434.0300         Year                  Y   \n",
       "4                    South      149907.3900         Year                  Y   \n",
       "...                    ...              ...          ...                ...   \n",
       "25475                South       77092.5700         Year                  Y   \n",
       "25476            Northeast      279174.7900         Year                  Y   \n",
       "25477                South      146298.8500         Year                  N   \n",
       "25478                 West       86154.7700         Year                  Y   \n",
       "25479              Midwest       70876.9100         Year                  Y   \n",
       "\n",
       "      case_status  \n",
       "0          Denied  \n",
       "1       Certified  \n",
       "2          Denied  \n",
       "3          Denied  \n",
       "4       Certified  \n",
       "...           ...  \n",
       "25475   Certified  \n",
       "25476   Certified  \n",
       "25477   Certified  \n",
       "25478   Certified  \n",
       "25479   Certified  \n",
       "\n",
       "[25480 rows x 12 columns]"
      ]
     },
     "execution_count": 57,
     "metadata": {},
     "output_type": "execute_result"
    }
   ],
   "source": [
    "visa_f=pd.read_csv(r\"C:\\Users\\debasish\\DS-AI\\N-IT\\datafiles\\Visadataset.csv\")\n",
    "visa_f"
   ]
  },
  {
   "cell_type": "code",
   "execution_count": 58,
   "id": "cd46e8fc-0ee9-45c3-9e8d-5e533a838afd",
   "metadata": {},
   "outputs": [],
   "source": [
    "cat_cols=[k for k,v in visa_f.dtypes.items() if v==\"object\"]\n",
    "num_cols=[k for k,v in visa_f.dtypes.items() if v!=\"object\"]"
   ]
  },
  {
   "cell_type": "code",
   "execution_count": 59,
   "id": "fb90b41d-54c0-4dac-8290-38b89ffd4564",
   "metadata": {},
   "outputs": [
    {
     "data": {
      "image/png": "[encoded data removed]",
      "text/plain": [
       "<Figure size 640x480 with 1 Axes>"
      ]
     },
     "metadata": {},
     "output_type": "display_data"
    }
   ],
   "source": [
    "var=visa_f['continent'].value_counts()\n",
    "new_var=var.plot(kind='bar')\n",
    "new_var.bar_label(new_var.containers[0])\n",
    "m.show()"
   ]
  },
  {
   "cell_type": "markdown",
   "id": "52e0014d-334a-4d26-a540-f763c4776a1b",
   "metadata": {},
   "source": [
    "**three ploting methods**"
   ]
  },
  {
   "cell_type": "code",
   "execution_count": 61,
   "id": "3f7777f7-e190-4223-9ad7-8ac3af7c6f23",
   "metadata": {},
   "outputs": [
    {
     "data": {
      "image/png": "[encoded data removed]",
      "text/plain": [
       "<Figure size 640x480 with 1 Axes>"
      ]
     },
     "metadata": {},
     "output_type": "display_data"
    }
   ],
   "source": [
    "#1 matplotlib\n",
    "cdf=visa_f['continent'].value_counts()\n",
    "keys=cdf.keys()\n",
    "val=cdf.values\n",
    "col=['label','count']\n",
    "d=pd.DataFrame(zip(keys,val),columns=col)\n",
    "m.bar('continents','no. of applicants',data=dataframe2)\n",
    "m.xlabel('Continents')\n",
    "m.ylabel('No. of Applicants')\n",
    "m.title(\"CONTINENTS DATA\")\n",
    "m.show()\n"
   ]
  },
  {
   "cell_type": "code",
   "execution_count": 62,
   "id": "05621202-beff-45ed-8537-279e8e2ecc21",
   "metadata": {},
   "outputs": [
    {
     "data": {
      "text/plain": [
       "<Axes: xlabel='continent', ylabel='count'>"
      ]
     },
     "execution_count": 62,
     "metadata": {},
     "output_type": "execute_result"
    },
    {
     "data": {
      "image/png": "[encoded data removed]",
      "text/plain": [
       "<Figure size 640x480 with 1 Axes>"
      ]
     },
     "metadata": {},
     "output_type": "display_data"
    }
   ],
   "source": [
    "#2 seaborn\n",
    "s.countplot(data=visa_f,x='continent')"
   ]
  },
  {
   "cell_type": "code",
   "execution_count": 63,
   "id": "3817ffb8-b9c6-484c-88c9-b882733f1570",
   "metadata": {},
   "outputs": [
    {
     "data": {
      "image/png": "[encoded data removed]",
      "text/plain": [
       "<Figure size 640x480 with 1 Axes>"
      ]
     },
     "metadata": {},
     "output_type": "display_data"
    }
   ],
   "source": [
    "#3container\n",
    "var=visa_f['continent'].value_counts()\n",
    "new_var=var.plot(kind='bar')\n",
    "new_var.bar_label(new_var.containers[0])\n",
    "m.show()"
   ]
  },
  {
   "cell_type": "markdown",
   "id": "73224479-d195-46aa-a616-78c7ecb93db8",
   "metadata": {},
   "source": [
    "**pie chart**"
   ]
  },
  {
   "cell_type": "code",
   "execution_count": 65,
   "id": "ad9ef8e5-8db9-4566-a342-e86a48fdfd85",
   "metadata": {},
   "outputs": [
    {
     "data": {
      "image/png": "[encoded data removed]",
      "text/plain": [
       "<Figure size 640x480 with 1 Axes>"
      ]
     },
     "metadata": {},
     "output_type": "display_data"
    }
   ],
   "source": [
    "#it is under matplotlib package\n",
    "var=visa_f['continent'].value_counts()\n",
    "k=var.keys()\n",
    "v=var.values\n",
    "m.pie(x=v,\n",
    "      explode=[0.1,0.1,0.1,0.1,0.1,0.1],\n",
    "      labels=k,\n",
    "      autopct='%0.3f',\n",
    "      shadow=True,\n",
    "      radius=1.5)\n",
    "m.show()"
   ]
  },
  {
   "cell_type": "code",
   "execution_count": 66,
   "id": "e63968d2-9cb6-4ace-ba99-c3064a14e926",
   "metadata": {},
   "outputs": [
    {
     "data": {
      "image/png": "[encoded data removed]",
      "text/plain": [
       "<Figure size 640x480 with 1 Axes>"
      ]
     },
     "metadata": {},
     "output_type": "display_data"
    }
   ],
   "source": [
    "\n",
    "var=visa_f['continent'].value_counts()\n",
    "k=var.keys()\n",
    "v=var.values\n",
    "m.pie(x=v,\n",
    "      labels=k,\n",
    "      autopct=lambda p:'{:.2f}% ({:.0f})'.format(p,(p/100)*v.sum()),\n",
    "      shadow=True,\n",
    "      startangle=50.0,\n",
    "      radius=1.5)\n",
    "m.show()"
   ]
  },
  {
   "cell_type": "markdown",
   "id": "624261e1-4c29-464c-be96-b045cd12bbfd",
   "metadata": {},
   "source": [
    "**EDA SESSION 4**"
   ]
  },
  {
   "cell_type": "code",
   "execution_count": 68,
   "id": "e042c3f1-95c3-40e1-ae2d-ac50f0b62434",
   "metadata": {},
   "outputs": [],
   "source": [
    "import pandas as pd\n",
    "import matplotlib.pyplot as m\n",
    "import seaborn as s\n",
    "import numpy as np"
   ]
  },
  {
   "cell_type": "code",
   "execution_count": 69,
   "id": "56b961ad-6479-4b08-a9a2-0fb0ead6f115",
   "metadata": {},
   "outputs": [
    {
     "data": {
      "text/html": [
       "<div>\n",
       "<style scoped>\n",
       "    .dataframe tbody tr th:only-of-type {\n",
       "        vertical-align: middle;\n",
       "    }\n",
       "\n",
       "    .dataframe tbody tr th {\n",
       "        vertical-align: top;\n",
       "    }\n",
       "\n",
       "    .dataframe thead th {\n",
       "        text-align: right;\n",
       "    }\n",
       "</style>\n",
       "<table border=\"1\" class=\"dataframe\">\n",
       "  <thead>\n",
       "    <tr style=\"text-align: right;\">\n",
       "      <th></th>\n",
       "      <th>case_id</th>\n",
       "      <th>continent</th>\n",
       "      <th>education_of_employee</th>\n",
       "      <th>has_job_experience</th>\n",
       "      <th>requires_job_training</th>\n",
       "      <th>no_of_employees</th>\n",
       "      <th>yr_of_estab</th>\n",
       "      <th>region_of_employment</th>\n",
       "      <th>prevailing_wage</th>\n",
       "      <th>unit_of_wage</th>\n",
       "      <th>full_time_position</th>\n",
       "      <th>case_status</th>\n",
       "    </tr>\n",
       "  </thead>\n",
       "  <tbody>\n",
       "    <tr>\n",
       "      <th>0</th>\n",
       "      <td>EZYV01</td>\n",
       "      <td>Asia</td>\n",
       "      <td>High School</td>\n",
       "      <td>N</td>\n",
       "      <td>N</td>\n",
       "      <td>14513</td>\n",
       "      <td>2007</td>\n",
       "      <td>West</td>\n",
       "      <td>592.2029</td>\n",
       "      <td>Hour</td>\n",
       "      <td>Y</td>\n",
       "      <td>Denied</td>\n",
       "    </tr>\n",
       "    <tr>\n",
       "      <th>1</th>\n",
       "      <td>EZYV02</td>\n",
       "      <td>Asia</td>\n",
       "      <td>Master's</td>\n",
       "      <td>Y</td>\n",
       "      <td>N</td>\n",
       "      <td>2412</td>\n",
       "      <td>2002</td>\n",
       "      <td>Northeast</td>\n",
       "      <td>83425.6500</td>\n",
       "      <td>Year</td>\n",
       "      <td>Y</td>\n",
       "      <td>Certified</td>\n",
       "    </tr>\n",
       "    <tr>\n",
       "      <th>2</th>\n",
       "      <td>EZYV03</td>\n",
       "      <td>Asia</td>\n",
       "      <td>Bachelor's</td>\n",
       "      <td>N</td>\n",
       "      <td>Y</td>\n",
       "      <td>44444</td>\n",
       "      <td>2008</td>\n",
       "      <td>West</td>\n",
       "      <td>122996.8600</td>\n",
       "      <td>Year</td>\n",
       "      <td>Y</td>\n",
       "      <td>Denied</td>\n",
       "    </tr>\n",
       "    <tr>\n",
       "      <th>3</th>\n",
       "      <td>EZYV04</td>\n",
       "      <td>Asia</td>\n",
       "      <td>Bachelor's</td>\n",
       "      <td>N</td>\n",
       "      <td>N</td>\n",
       "      <td>98</td>\n",
       "      <td>1897</td>\n",
       "      <td>West</td>\n",
       "      <td>83434.0300</td>\n",
       "      <td>Year</td>\n",
       "      <td>Y</td>\n",
       "      <td>Denied</td>\n",
       "    </tr>\n",
       "    <tr>\n",
       "      <th>4</th>\n",
       "      <td>EZYV05</td>\n",
       "      <td>Africa</td>\n",
       "      <td>Master's</td>\n",
       "      <td>Y</td>\n",
       "      <td>N</td>\n",
       "      <td>1082</td>\n",
       "      <td>2005</td>\n",
       "      <td>South</td>\n",
       "      <td>149907.3900</td>\n",
       "      <td>Year</td>\n",
       "      <td>Y</td>\n",
       "      <td>Certified</td>\n",
       "    </tr>\n",
       "    <tr>\n",
       "      <th>...</th>\n",
       "      <td>...</td>\n",
       "      <td>...</td>\n",
       "      <td>...</td>\n",
       "      <td>...</td>\n",
       "      <td>...</td>\n",
       "      <td>...</td>\n",
       "      <td>...</td>\n",
       "      <td>...</td>\n",
       "      <td>...</td>\n",
       "      <td>...</td>\n",
       "      <td>...</td>\n",
       "      <td>...</td>\n",
       "    </tr>\n",
       "    <tr>\n",
       "      <th>25475</th>\n",
       "      <td>EZYV25476</td>\n",
       "      <td>Asia</td>\n",
       "      <td>Bachelor's</td>\n",
       "      <td>Y</td>\n",
       "      <td>Y</td>\n",
       "      <td>2601</td>\n",
       "      <td>2008</td>\n",
       "      <td>South</td>\n",
       "      <td>77092.5700</td>\n",
       "      <td>Year</td>\n",
       "      <td>Y</td>\n",
       "      <td>Certified</td>\n",
       "    </tr>\n",
       "    <tr>\n",
       "      <th>25476</th>\n",
       "      <td>EZYV25477</td>\n",
       "      <td>Asia</td>\n",
       "      <td>High School</td>\n",
       "      <td>Y</td>\n",
       "      <td>N</td>\n",
       "      <td>3274</td>\n",
       "      <td>2006</td>\n",
       "      <td>Northeast</td>\n",
       "      <td>279174.7900</td>\n",
       "      <td>Year</td>\n",
       "      <td>Y</td>\n",
       "      <td>Certified</td>\n",
       "    </tr>\n",
       "    <tr>\n",
       "      <th>25477</th>\n",
       "      <td>EZYV25478</td>\n",
       "      <td>Asia</td>\n",
       "      <td>Master's</td>\n",
       "      <td>Y</td>\n",
       "      <td>N</td>\n",
       "      <td>1121</td>\n",
       "      <td>1910</td>\n",
       "      <td>South</td>\n",
       "      <td>146298.8500</td>\n",
       "      <td>Year</td>\n",
       "      <td>N</td>\n",
       "      <td>Certified</td>\n",
       "    </tr>\n",
       "    <tr>\n",
       "      <th>25478</th>\n",
       "      <td>EZYV25479</td>\n",
       "      <td>Asia</td>\n",
       "      <td>Master's</td>\n",
       "      <td>Y</td>\n",
       "      <td>Y</td>\n",
       "      <td>1918</td>\n",
       "      <td>1887</td>\n",
       "      <td>West</td>\n",
       "      <td>86154.7700</td>\n",
       "      <td>Year</td>\n",
       "      <td>Y</td>\n",
       "      <td>Certified</td>\n",
       "    </tr>\n",
       "    <tr>\n",
       "      <th>25479</th>\n",
       "      <td>EZYV25480</td>\n",
       "      <td>Asia</td>\n",
       "      <td>Bachelor's</td>\n",
       "      <td>Y</td>\n",
       "      <td>N</td>\n",
       "      <td>3195</td>\n",
       "      <td>1960</td>\n",
       "      <td>Midwest</td>\n",
       "      <td>70876.9100</td>\n",
       "      <td>Year</td>\n",
       "      <td>Y</td>\n",
       "      <td>Certified</td>\n",
       "    </tr>\n",
       "  </tbody>\n",
       "</table>\n",
       "<p>25480 rows × 12 columns</p>\n",
       "</div>"
      ],
      "text/plain": [
       "         case_id continent education_of_employee has_job_experience  \\\n",
       "0         EZYV01      Asia           High School                  N   \n",
       "1         EZYV02      Asia              Master's                  Y   \n",
       "2         EZYV03      Asia            Bachelor's                  N   \n",
       "3         EZYV04      Asia            Bachelor's                  N   \n",
       "4         EZYV05    Africa              Master's                  Y   \n",
       "...          ...       ...                   ...                ...   \n",
       "25475  EZYV25476      Asia            Bachelor's                  Y   \n",
       "25476  EZYV25477      Asia           High School                  Y   \n",
       "25477  EZYV25478      Asia              Master's                  Y   \n",
       "25478  EZYV25479      Asia              Master's                  Y   \n",
       "25479  EZYV25480      Asia            Bachelor's                  Y   \n",
       "\n",
       "      requires_job_training  no_of_employees  yr_of_estab  \\\n",
       "0                         N            14513         2007   \n",
       "1                         N             2412         2002   \n",
       "2                         Y            44444         2008   \n",
       "3                         N               98         1897   \n",
       "4                         N             1082         2005   \n",
       "...                     ...              ...          ...   \n",
       "25475                     Y             2601         2008   \n",
       "25476                     N             3274         2006   \n",
       "25477                     N             1121         1910   \n",
       "25478                     Y             1918         1887   \n",
       "25479                     N             3195         1960   \n",
       "\n",
       "      region_of_employment  prevailing_wage unit_of_wage full_time_position  \\\n",
       "0                     West         592.2029         Hour                  Y   \n",
       "1                Northeast       83425.6500         Year                  Y   \n",
       "2                     West      122996.8600         Year                  Y   \n",
       "3                     West       83434.0300         Year                  Y   \n",
       "4                    South      149907.3900         Year                  Y   \n",
       "...                    ...              ...          ...                ...   \n",
       "25475                South       77092.5700         Year                  Y   \n",
       "25476            Northeast      279174.7900         Year                  Y   \n",
       "25477                South      146298.8500         Year                  N   \n",
       "25478                 West       86154.7700         Year                  Y   \n",
       "25479              Midwest       70876.9100         Year                  Y   \n",
       "\n",
       "      case_status  \n",
       "0          Denied  \n",
       "1       Certified  \n",
       "2          Denied  \n",
       "3          Denied  \n",
       "4       Certified  \n",
       "...           ...  \n",
       "25475   Certified  \n",
       "25476   Certified  \n",
       "25477   Certified  \n",
       "25478   Certified  \n",
       "25479   Certified  \n",
       "\n",
       "[25480 rows x 12 columns]"
      ]
     },
     "execution_count": 69,
     "metadata": {},
     "output_type": "execute_result"
    }
   ],
   "source": [
    "visa_f"
   ]
  },
  {
   "cell_type": "code",
   "execution_count": 70,
   "id": "5c212d39-a555-40c8-a87b-2f89ae7e0fee",
   "metadata": {},
   "outputs": [
    {
     "data": {
      "text/plain": [
       "['case_id',\n",
       " 'continent',\n",
       " 'education_of_employee',\n",
       " 'has_job_experience',\n",
       " 'requires_job_training',\n",
       " 'region_of_employment',\n",
       " 'unit_of_wage',\n",
       " 'full_time_position',\n",
       " 'case_status']"
      ]
     },
     "execution_count": 70,
     "metadata": {},
     "output_type": "execute_result"
    }
   ],
   "source": [
    "cat_cols"
   ]
  },
  {
   "cell_type": "code",
   "execution_count": 71,
   "id": "4d7a99ed-0aaa-41cc-8164-2c9c3e824cad",
   "metadata": {},
   "outputs": [
    {
     "data": {
      "text/plain": [
       "['no_of_employees', 'yr_of_estab', 'prevailing_wage']"
      ]
     },
     "execution_count": 71,
     "metadata": {},
     "output_type": "execute_result"
    }
   ],
   "source": [
    "num_cols"
   ]
  },
  {
   "cell_type": "markdown",
   "id": "0425d1de-92ca-4dfa-9086-ad9c5a44b8a6",
   "metadata": {},
   "source": [
    "**previaling wage**"
   ]
  },
  {
   "cell_type": "code",
   "execution_count": 73,
   "id": "6089c748-9c97-4def-97b1-4194e6b083c2",
   "metadata": {},
   "outputs": [
    {
     "data": {
      "text/html": [
       "<div>\n",
       "<style scoped>\n",
       "    .dataframe tbody tr th:only-of-type {\n",
       "        vertical-align: middle;\n",
       "    }\n",
       "\n",
       "    .dataframe tbody tr th {\n",
       "        vertical-align: top;\n",
       "    }\n",
       "\n",
       "    .dataframe thead th {\n",
       "        text-align: right;\n",
       "    }\n",
       "</style>\n",
       "<table border=\"1\" class=\"dataframe\">\n",
       "  <thead>\n",
       "    <tr style=\"text-align: right;\">\n",
       "      <th></th>\n",
       "      <th>prevailing_wage</th>\n",
       "    </tr>\n",
       "  </thead>\n",
       "  <tbody>\n",
       "    <tr>\n",
       "      <th>0</th>\n",
       "      <td>592.2029</td>\n",
       "    </tr>\n",
       "    <tr>\n",
       "      <th>1</th>\n",
       "      <td>83425.6500</td>\n",
       "    </tr>\n",
       "    <tr>\n",
       "      <th>2</th>\n",
       "      <td>122996.8600</td>\n",
       "    </tr>\n",
       "    <tr>\n",
       "      <th>3</th>\n",
       "      <td>83434.0300</td>\n",
       "    </tr>\n",
       "    <tr>\n",
       "      <th>4</th>\n",
       "      <td>149907.3900</td>\n",
       "    </tr>\n",
       "    <tr>\n",
       "      <th>...</th>\n",
       "      <td>...</td>\n",
       "    </tr>\n",
       "    <tr>\n",
       "      <th>25475</th>\n",
       "      <td>77092.5700</td>\n",
       "    </tr>\n",
       "    <tr>\n",
       "      <th>25476</th>\n",
       "      <td>279174.7900</td>\n",
       "    </tr>\n",
       "    <tr>\n",
       "      <th>25477</th>\n",
       "      <td>146298.8500</td>\n",
       "    </tr>\n",
       "    <tr>\n",
       "      <th>25478</th>\n",
       "      <td>86154.7700</td>\n",
       "    </tr>\n",
       "    <tr>\n",
       "      <th>25479</th>\n",
       "      <td>70876.9100</td>\n",
       "    </tr>\n",
       "  </tbody>\n",
       "</table>\n",
       "<p>25480 rows × 1 columns</p>\n",
       "</div>"
      ],
      "text/plain": [
       "       prevailing_wage\n",
       "0             592.2029\n",
       "1           83425.6500\n",
       "2          122996.8600\n",
       "3           83434.0300\n",
       "4          149907.3900\n",
       "...                ...\n",
       "25475       77092.5700\n",
       "25476      279174.7900\n",
       "25477      146298.8500\n",
       "25478       86154.7700\n",
       "25479       70876.9100\n",
       "\n",
       "[25480 rows x 1 columns]"
      ]
     },
     "execution_count": 73,
     "metadata": {},
     "output_type": "execute_result"
    }
   ],
   "source": [
    "visa_f.loc[:,['prevailing_wage']]"
   ]
  },
  {
   "cell_type": "code",
   "execution_count": 74,
   "id": "67925296-c799-4783-95ca-b8da9dd8142a",
   "metadata": {},
   "outputs": [
    {
     "data": {
      "text/html": [
       "<div>\n",
       "<style scoped>\n",
       "    .dataframe tbody tr th:only-of-type {\n",
       "        vertical-align: middle;\n",
       "    }\n",
       "\n",
       "    .dataframe tbody tr th {\n",
       "        vertical-align: top;\n",
       "    }\n",
       "\n",
       "    .dataframe thead th {\n",
       "        text-align: right;\n",
       "    }\n",
       "</style>\n",
       "<table border=\"1\" class=\"dataframe\">\n",
       "  <thead>\n",
       "    <tr style=\"text-align: right;\">\n",
       "      <th></th>\n",
       "      <th>prevailing_wage</th>\n",
       "    </tr>\n",
       "  </thead>\n",
       "  <tbody>\n",
       "    <tr>\n",
       "      <th>0</th>\n",
       "      <td>592.2029</td>\n",
       "    </tr>\n",
       "    <tr>\n",
       "      <th>1</th>\n",
       "      <td>83425.6500</td>\n",
       "    </tr>\n",
       "    <tr>\n",
       "      <th>2</th>\n",
       "      <td>122996.8600</td>\n",
       "    </tr>\n",
       "    <tr>\n",
       "      <th>3</th>\n",
       "      <td>83434.0300</td>\n",
       "    </tr>\n",
       "    <tr>\n",
       "      <th>4</th>\n",
       "      <td>149907.3900</td>\n",
       "    </tr>\n",
       "    <tr>\n",
       "      <th>...</th>\n",
       "      <td>...</td>\n",
       "    </tr>\n",
       "    <tr>\n",
       "      <th>25475</th>\n",
       "      <td>77092.5700</td>\n",
       "    </tr>\n",
       "    <tr>\n",
       "      <th>25476</th>\n",
       "      <td>279174.7900</td>\n",
       "    </tr>\n",
       "    <tr>\n",
       "      <th>25477</th>\n",
       "      <td>146298.8500</td>\n",
       "    </tr>\n",
       "    <tr>\n",
       "      <th>25478</th>\n",
       "      <td>86154.7700</td>\n",
       "    </tr>\n",
       "    <tr>\n",
       "      <th>25479</th>\n",
       "      <td>70876.9100</td>\n",
       "    </tr>\n",
       "  </tbody>\n",
       "</table>\n",
       "<p>25480 rows × 1 columns</p>\n",
       "</div>"
      ],
      "text/plain": [
       "       prevailing_wage\n",
       "0             592.2029\n",
       "1           83425.6500\n",
       "2          122996.8600\n",
       "3           83434.0300\n",
       "4          149907.3900\n",
       "...                ...\n",
       "25475       77092.5700\n",
       "25476      279174.7900\n",
       "25477      146298.8500\n",
       "25478       86154.7700\n",
       "25479       70876.9100\n",
       "\n",
       "[25480 rows x 1 columns]"
      ]
     },
     "execution_count": 74,
     "metadata": {},
     "output_type": "execute_result"
    }
   ],
   "source": [
    "visa_f.iloc[:,[8]]"
   ]
  },
  {
   "cell_type": "code",
   "execution_count": 75,
   "id": "54ffbd33-906d-4efc-804f-45bb97f3b531",
   "metadata": {},
   "outputs": [
    {
     "data": {
      "text/plain": [
       "0           592.2029\n",
       "1         83425.6500\n",
       "2        122996.8600\n",
       "3         83434.0300\n",
       "4        149907.3900\n",
       "            ...     \n",
       "25475     77092.5700\n",
       "25476    279174.7900\n",
       "25477    146298.8500\n",
       "25478     86154.7700\n",
       "25479     70876.9100\n",
       "Name: prevailing_wage, Length: 25480, dtype: float64"
      ]
     },
     "execution_count": 75,
     "metadata": {},
     "output_type": "execute_result"
    }
   ],
   "source": [
    "visa_f['prevailing_wage']"
   ]
  },
  {
   "cell_type": "code",
   "execution_count": 76,
   "id": "644b3932-8286-4702-8aa8-3d4dea991b76",
   "metadata": {},
   "outputs": [
    {
     "data": {
      "text/html": [
       "<div>\n",
       "<style scoped>\n",
       "    .dataframe tbody tr th:only-of-type {\n",
       "        vertical-align: middle;\n",
       "    }\n",
       "\n",
       "    .dataframe tbody tr th {\n",
       "        vertical-align: top;\n",
       "    }\n",
       "\n",
       "    .dataframe thead th {\n",
       "        text-align: right;\n",
       "    }\n",
       "</style>\n",
       "<table border=\"1\" class=\"dataframe\">\n",
       "  <thead>\n",
       "    <tr style=\"text-align: right;\">\n",
       "      <th></th>\n",
       "      <th>prevailing_wage</th>\n",
       "    </tr>\n",
       "  </thead>\n",
       "  <tbody>\n",
       "    <tr>\n",
       "      <th>0</th>\n",
       "      <td>592.2029</td>\n",
       "    </tr>\n",
       "    <tr>\n",
       "      <th>1</th>\n",
       "      <td>83425.6500</td>\n",
       "    </tr>\n",
       "    <tr>\n",
       "      <th>2</th>\n",
       "      <td>122996.8600</td>\n",
       "    </tr>\n",
       "    <tr>\n",
       "      <th>3</th>\n",
       "      <td>83434.0300</td>\n",
       "    </tr>\n",
       "    <tr>\n",
       "      <th>4</th>\n",
       "      <td>149907.3900</td>\n",
       "    </tr>\n",
       "    <tr>\n",
       "      <th>...</th>\n",
       "      <td>...</td>\n",
       "    </tr>\n",
       "    <tr>\n",
       "      <th>25475</th>\n",
       "      <td>77092.5700</td>\n",
       "    </tr>\n",
       "    <tr>\n",
       "      <th>25476</th>\n",
       "      <td>279174.7900</td>\n",
       "    </tr>\n",
       "    <tr>\n",
       "      <th>25477</th>\n",
       "      <td>146298.8500</td>\n",
       "    </tr>\n",
       "    <tr>\n",
       "      <th>25478</th>\n",
       "      <td>86154.7700</td>\n",
       "    </tr>\n",
       "    <tr>\n",
       "      <th>25479</th>\n",
       "      <td>70876.9100</td>\n",
       "    </tr>\n",
       "  </tbody>\n",
       "</table>\n",
       "<p>25480 rows × 1 columns</p>\n",
       "</div>"
      ],
      "text/plain": [
       "       prevailing_wage\n",
       "0             592.2029\n",
       "1           83425.6500\n",
       "2          122996.8600\n",
       "3           83434.0300\n",
       "4          149907.3900\n",
       "...                ...\n",
       "25475       77092.5700\n",
       "25476      279174.7900\n",
       "25477      146298.8500\n",
       "25478       86154.7700\n",
       "25479       70876.9100\n",
       "\n",
       "[25480 rows x 1 columns]"
      ]
     },
     "execution_count": 76,
     "metadata": {},
     "output_type": "execute_result"
    }
   ],
   "source": [
    "visa_f[['prevailing_wage']]"
   ]
  },
  {
   "cell_type": "code",
   "execution_count": 77,
   "id": "85a690be-9fb8-4c2f-8fd8-4b15ebe1d567",
   "metadata": {},
   "outputs": [],
   "source": [
    "# way 1- visa_f.loc[:,'col_name'] loc uses col name\n",
    "# way 2- visa_f.iloc[:,'index'] loc uses index values\n",
    "# way 3- visa_f['col name'] single bracket so series output\n",
    "# way 4- visa_f[['col name']] double bracket so dataframe output"
   ]
  },
  {
   "cell_type": "code",
   "execution_count": 78,
   "id": "9984ef59-7d1b-4b07-a7c2-0055744ee06a",
   "metadata": {},
   "outputs": [
    {
     "data": {
      "text/html": [
       "<div>\n",
       "<style scoped>\n",
       "    .dataframe tbody tr th:only-of-type {\n",
       "        vertical-align: middle;\n",
       "    }\n",
       "\n",
       "    .dataframe tbody tr th {\n",
       "        vertical-align: top;\n",
       "    }\n",
       "\n",
       "    .dataframe thead th {\n",
       "        text-align: right;\n",
       "    }\n",
       "</style>\n",
       "<table border=\"1\" class=\"dataframe\">\n",
       "  <thead>\n",
       "    <tr style=\"text-align: right;\">\n",
       "      <th></th>\n",
       "      <th>has_job_experience</th>\n",
       "      <th>requires_job_training</th>\n",
       "      <th>no_of_employees</th>\n",
       "      <th>yr_of_estab</th>\n",
       "    </tr>\n",
       "  </thead>\n",
       "  <tbody>\n",
       "    <tr>\n",
       "      <th>2</th>\n",
       "      <td>N</td>\n",
       "      <td>Y</td>\n",
       "      <td>44444</td>\n",
       "      <td>2008</td>\n",
       "    </tr>\n",
       "    <tr>\n",
       "      <th>3</th>\n",
       "      <td>N</td>\n",
       "      <td>N</td>\n",
       "      <td>98</td>\n",
       "      <td>1897</td>\n",
       "    </tr>\n",
       "    <tr>\n",
       "      <th>4</th>\n",
       "      <td>Y</td>\n",
       "      <td>N</td>\n",
       "      <td>1082</td>\n",
       "      <td>2005</td>\n",
       "    </tr>\n",
       "  </tbody>\n",
       "</table>\n",
       "</div>"
      ],
      "text/plain": [
       "  has_job_experience requires_job_training  no_of_employees  yr_of_estab\n",
       "2                  N                     Y            44444         2008\n",
       "3                  N                     N               98         1897\n",
       "4                  Y                     N             1082         2005"
      ]
     },
     "execution_count": 78,
     "metadata": {},
     "output_type": "execute_result"
    }
   ],
   "source": [
    "# visa_f.iloc[rows,cols]\n",
    "# rows has = start: stop: step\n",
    "# cols has = start: stop: step\n",
    "visa_f.iloc[2:5,3:7]"
   ]
  },
  {
   "cell_type": "markdown",
   "id": "739f18a6-e080-482d-8131-54c87c816e0b",
   "metadata": {},
   "source": [
    "- len\n",
    "- min , max , avg\n",
    "- std\n",
    "- median-50p\n",
    "- 25p\n",
    "- 75p"
   ]
  },
  {
   "cell_type": "code",
   "execution_count": 80,
   "id": "86e80ede-abf5-47cf-a705-7238e6f083f9",
   "metadata": {},
   "outputs": [
    {
     "data": {
      "text/plain": [
       "25480"
      ]
     },
     "execution_count": 80,
     "metadata": {},
     "output_type": "execute_result"
    }
   ],
   "source": [
    "n=len(visa_f['prevailing_wage'])\n",
    "n"
   ]
  },
  {
   "cell_type": "code",
   "execution_count": 81,
   "id": "576994ce-9508-4c92-9bb6-9108f3506642",
   "metadata": {},
   "outputs": [
    {
     "data": {
      "text/plain": [
       "2.14"
      ]
     },
     "execution_count": 81,
     "metadata": {},
     "output_type": "execute_result"
    }
   ],
   "source": [
    "round(min(visa_f['prevailing_wage']),2)"
   ]
  },
  {
   "cell_type": "code",
   "execution_count": 82,
   "id": "520f2610-4d65-4268-8919-e8fefc4b77b7",
   "metadata": {},
   "outputs": [
    {
     "data": {
      "text/plain": [
       "319210.27"
      ]
     },
     "execution_count": 82,
     "metadata": {},
     "output_type": "execute_result"
    }
   ],
   "source": [
    "max(visa_f['prevailing_wage'])"
   ]
  },
  {
   "cell_type": "code",
   "execution_count": 83,
   "id": "5133cd56-21db-46da-8acb-12cb0d00ffbf",
   "metadata": {},
   "outputs": [
    {
     "name": "stdout",
     "output_type": "stream",
     "text": [
      "the num of wage sample is =  25480\n",
      "the max of wage sample is =  319210.27\n",
      "the min of wage sample is =  2.1367\n"
     ]
    }
   ],
   "source": [
    "print('the num of wage sample is = ',len(visa_f['prevailing_wage']))\n",
    "print('the max of wage sample is = ',max(visa_f['prevailing_wage']))\n",
    "print('the min of wage sample is = ',min(visa_f['prevailing_wage']))"
   ]
  },
  {
   "cell_type": "code",
   "execution_count": 84,
   "id": "09ab577f-1423-41a3-a8b6-441c8975179e",
   "metadata": {},
   "outputs": [
    {
     "data": {
      "text/plain": [
       "74455.81459209183"
      ]
     },
     "execution_count": 84,
     "metadata": {},
     "output_type": "execute_result"
    }
   ],
   "source": [
    "visa_f['prevailing_wage'].mean()"
   ]
  },
  {
   "cell_type": "code",
   "execution_count": 85,
   "id": "d8b50f76-5dff-4c8f-a68a-ccee0c85ef92",
   "metadata": {},
   "outputs": [
    {
     "data": {
      "text/plain": [
       "74455.81459209183"
      ]
     },
     "execution_count": 85,
     "metadata": {},
     "output_type": "execute_result"
    }
   ],
   "source": [
    "np.mean(visa_f['prevailing_wage'])"
   ]
  },
  {
   "cell_type": "code",
   "execution_count": 86,
   "id": "9be0ab34-b7e9-4575-8232-420846775e41",
   "metadata": {},
   "outputs": [
    {
     "data": {
      "text/plain": [
       "70308.21"
      ]
     },
     "execution_count": 86,
     "metadata": {},
     "output_type": "execute_result"
    }
   ],
   "source": [
    "round(visa_f['prevailing_wage'].median(),2)"
   ]
  },
  {
   "cell_type": "code",
   "execution_count": 87,
   "id": "bde32aa4-55b5-4d70-b12c-765c88f51061",
   "metadata": {},
   "outputs": [
    {
     "data": {
      "text/plain": [
       "70308.21"
      ]
     },
     "execution_count": 87,
     "metadata": {},
     "output_type": "execute_result"
    }
   ],
   "source": [
    "round(np.median(visa_f['prevailing_wage']),2)"
   ]
  },
  {
   "cell_type": "code",
   "execution_count": 88,
   "id": "d8d8a996-a040-4b04-bd32-0ac8436660a8",
   "metadata": {},
   "outputs": [
    {
     "data": {
      "text/plain": [
       "52815.94"
      ]
     },
     "execution_count": 88,
     "metadata": {},
     "output_type": "execute_result"
    }
   ],
   "source": [
    "round(visa_f['prevailing_wage'].std(),2)"
   ]
  },
  {
   "cell_type": "code",
   "execution_count": 89,
   "id": "66d66e0a-f34d-40ff-b76a-ae6d568ee078",
   "metadata": {},
   "outputs": [
    {
     "name": "stdout",
     "output_type": "stream",
     "text": [
      "mean is =  74455.81459209183\n",
      "median is =  70308.20999999999\n",
      "std is =  52815.94232687357\n"
     ]
    }
   ],
   "source": [
    "print('mean is = ',visa_f['prevailing_wage'].mean())\n",
    "print('median is = ',visa_f['prevailing_wage'].median())\n",
    "print('std is = ',visa_f['prevailing_wage'].std())"
   ]
  },
  {
   "cell_type": "code",
   "execution_count": 90,
   "id": "a690503d-16b0-4576-8546-2d42c58bb6f7",
   "metadata": {},
   "outputs": [],
   "source": [
    "lis=[]\n",
    "lis.append(round(visa_f['prevailing_wage'].median(),2))\n",
    "lis.append(round(visa_f['prevailing_wage'].mean(),2))\n",
    "lis.append(round(visa_f['prevailing_wage'].std(),2))\n",
    "lis.append(len(visa_f['prevailing_wage']))\n",
    "lis.append(round(max(visa_f['prevailing_wage']),2))\n",
    "lis.append(round(min(visa_f['prevailing_wage']),2))"
   ]
  },
  {
   "cell_type": "code",
   "execution_count": 91,
   "id": "18b3fd39-1f79-49b3-9525-27009de6f960",
   "metadata": {},
   "outputs": [
    {
     "data": {
      "text/plain": [
       "[70308.21, 74455.81, 52815.94, 25480, 319210.27, 2.14]"
      ]
     },
     "execution_count": 91,
     "metadata": {},
     "output_type": "execute_result"
    }
   ],
   "source": [
    "lis"
   ]
  },
  {
   "cell_type": "code",
   "execution_count": 92,
   "id": "c4aa5c67-6b2a-4f03-a904-44745b0c6d70",
   "metadata": {},
   "outputs": [
    {
     "data": {
      "text/html": [
       "<div>\n",
       "<style scoped>\n",
       "    .dataframe tbody tr th:only-of-type {\n",
       "        vertical-align: middle;\n",
       "    }\n",
       "\n",
       "    .dataframe tbody tr th {\n",
       "        vertical-align: top;\n",
       "    }\n",
       "\n",
       "    .dataframe thead th {\n",
       "        text-align: right;\n",
       "    }\n",
       "</style>\n",
       "<table border=\"1\" class=\"dataframe\">\n",
       "  <thead>\n",
       "    <tr style=\"text-align: right;\">\n",
       "      <th></th>\n",
       "      <th>privailing_wage</th>\n",
       "    </tr>\n",
       "  </thead>\n",
       "  <tbody>\n",
       "    <tr>\n",
       "      <th>median</th>\n",
       "      <td>70308.21</td>\n",
       "    </tr>\n",
       "    <tr>\n",
       "      <th>mean</th>\n",
       "      <td>74455.81</td>\n",
       "    </tr>\n",
       "    <tr>\n",
       "      <th>std</th>\n",
       "      <td>52815.94</td>\n",
       "    </tr>\n",
       "    <tr>\n",
       "      <th>count</th>\n",
       "      <td>25480.00</td>\n",
       "    </tr>\n",
       "    <tr>\n",
       "      <th>max</th>\n",
       "      <td>319210.27</td>\n",
       "    </tr>\n",
       "    <tr>\n",
       "      <th>min</th>\n",
       "      <td>2.14</td>\n",
       "    </tr>\n",
       "  </tbody>\n",
       "</table>\n",
       "</div>"
      ],
      "text/plain": [
       "        privailing_wage\n",
       "median         70308.21\n",
       "mean           74455.81\n",
       "std            52815.94\n",
       "count          25480.00\n",
       "max           319210.27\n",
       "min                2.14"
      ]
     },
     "execution_count": 92,
     "metadata": {},
     "output_type": "execute_result"
    }
   ],
   "source": [
    "i=['median','mean','std','count','max','min']\n",
    "wage_dt=pd.DataFrame(lis,columns=['privailing_wage'],index=i)\n",
    "wage_dt"
   ]
  },
  {
   "cell_type": "code",
   "execution_count": 93,
   "id": "e8baec98-55db-4fda-92e5-a5bab398b2e0",
   "metadata": {},
   "outputs": [
    {
     "data": {
      "text/html": [
       "<div>\n",
       "<style scoped>\n",
       "    .dataframe tbody tr th:only-of-type {\n",
       "        vertical-align: middle;\n",
       "    }\n",
       "\n",
       "    .dataframe tbody tr th {\n",
       "        vertical-align: top;\n",
       "    }\n",
       "\n",
       "    .dataframe thead th {\n",
       "        text-align: right;\n",
       "    }\n",
       "</style>\n",
       "<table border=\"1\" class=\"dataframe\">\n",
       "  <thead>\n",
       "    <tr style=\"text-align: right;\">\n",
       "      <th></th>\n",
       "      <th>no_of_employees</th>\n",
       "      <th>yr_of_estab</th>\n",
       "      <th>prevailing_wage</th>\n",
       "    </tr>\n",
       "  </thead>\n",
       "  <tbody>\n",
       "    <tr>\n",
       "      <th>count</th>\n",
       "      <td>25480.000000</td>\n",
       "      <td>25480.000000</td>\n",
       "      <td>25480.000000</td>\n",
       "    </tr>\n",
       "    <tr>\n",
       "      <th>mean</th>\n",
       "      <td>5667.043210</td>\n",
       "      <td>1979.409929</td>\n",
       "      <td>74455.814592</td>\n",
       "    </tr>\n",
       "    <tr>\n",
       "      <th>std</th>\n",
       "      <td>22877.928848</td>\n",
       "      <td>42.366929</td>\n",
       "      <td>52815.942327</td>\n",
       "    </tr>\n",
       "    <tr>\n",
       "      <th>min</th>\n",
       "      <td>-26.000000</td>\n",
       "      <td>1800.000000</td>\n",
       "      <td>2.136700</td>\n",
       "    </tr>\n",
       "    <tr>\n",
       "      <th>25%</th>\n",
       "      <td>1022.000000</td>\n",
       "      <td>1976.000000</td>\n",
       "      <td>34015.480000</td>\n",
       "    </tr>\n",
       "    <tr>\n",
       "      <th>50%</th>\n",
       "      <td>2109.000000</td>\n",
       "      <td>1997.000000</td>\n",
       "      <td>70308.210000</td>\n",
       "    </tr>\n",
       "    <tr>\n",
       "      <th>75%</th>\n",
       "      <td>3504.000000</td>\n",
       "      <td>2005.000000</td>\n",
       "      <td>107735.512500</td>\n",
       "    </tr>\n",
       "    <tr>\n",
       "      <th>max</th>\n",
       "      <td>602069.000000</td>\n",
       "      <td>2016.000000</td>\n",
       "      <td>319210.270000</td>\n",
       "    </tr>\n",
       "  </tbody>\n",
       "</table>\n",
       "</div>"
      ],
      "text/plain": [
       "       no_of_employees   yr_of_estab  prevailing_wage\n",
       "count     25480.000000  25480.000000     25480.000000\n",
       "mean       5667.043210   1979.409929     74455.814592\n",
       "std       22877.928848     42.366929     52815.942327\n",
       "min         -26.000000   1800.000000         2.136700\n",
       "25%        1022.000000   1976.000000     34015.480000\n",
       "50%        2109.000000   1997.000000     70308.210000\n",
       "75%        3504.000000   2005.000000    107735.512500\n",
       "max      602069.000000   2016.000000    319210.270000"
      ]
     },
     "execution_count": 93,
     "metadata": {},
     "output_type": "execute_result"
    }
   ],
   "source": [
    "visa_f.describe()"
   ]
  },
  {
   "cell_type": "code",
   "execution_count": 94,
   "id": "47452544-02a5-489f-9239-cea72be43892",
   "metadata": {},
   "outputs": [
    {
     "data": {
      "text/html": [
       "<div>\n",
       "<style scoped>\n",
       "    .dataframe tbody tr th:only-of-type {\n",
       "        vertical-align: middle;\n",
       "    }\n",
       "\n",
       "    .dataframe tbody tr th {\n",
       "        vertical-align: top;\n",
       "    }\n",
       "\n",
       "    .dataframe thead th {\n",
       "        text-align: right;\n",
       "    }\n",
       "</style>\n",
       "<table border=\"1\" class=\"dataframe\">\n",
       "  <thead>\n",
       "    <tr style=\"text-align: right;\">\n",
       "      <th></th>\n",
       "      <th>prevailing_wage</th>\n",
       "    </tr>\n",
       "  </thead>\n",
       "  <tbody>\n",
       "    <tr>\n",
       "      <th>count</th>\n",
       "      <td>25480.000000</td>\n",
       "    </tr>\n",
       "    <tr>\n",
       "      <th>mean</th>\n",
       "      <td>74455.814592</td>\n",
       "    </tr>\n",
       "    <tr>\n",
       "      <th>std</th>\n",
       "      <td>52815.942327</td>\n",
       "    </tr>\n",
       "    <tr>\n",
       "      <th>min</th>\n",
       "      <td>2.136700</td>\n",
       "    </tr>\n",
       "    <tr>\n",
       "      <th>25%</th>\n",
       "      <td>34015.480000</td>\n",
       "    </tr>\n",
       "    <tr>\n",
       "      <th>50%</th>\n",
       "      <td>70308.210000</td>\n",
       "    </tr>\n",
       "    <tr>\n",
       "      <th>75%</th>\n",
       "      <td>107735.512500</td>\n",
       "    </tr>\n",
       "    <tr>\n",
       "      <th>max</th>\n",
       "      <td>319210.270000</td>\n",
       "    </tr>\n",
       "  </tbody>\n",
       "</table>\n",
       "</div>"
      ],
      "text/plain": [
       "       prevailing_wage\n",
       "count     25480.000000\n",
       "mean      74455.814592\n",
       "std       52815.942327\n",
       "min           2.136700\n",
       "25%       34015.480000\n",
       "50%       70308.210000\n",
       "75%      107735.512500\n",
       "max      319210.270000"
      ]
     },
     "execution_count": 94,
     "metadata": {},
     "output_type": "execute_result"
    }
   ],
   "source": [
    "visa_f[['prevailing_wage']].describe()"
   ]
  },
  {
   "cell_type": "markdown",
   "id": "abc75d80-dc35-4c53-b112-2fbeb9efc666",
   "metadata": {},
   "source": [
    "**25p-50p-75p**"
   ]
  },
  {
   "cell_type": "markdown",
   "id": "ccd7ff85-6143-488b-ba06-28243e52a510",
   "metadata": {},
   "source": [
    "**np.percentile()**"
   ]
  },
  {
   "cell_type": "markdown",
   "id": "63c32948-d4ab-49da-8773-8b6da59bcb4b",
   "metadata": {},
   "source": [
    "-in numpy we have percentile \n",
    "- it takes two values \n",
    "- a= array= data\n",
    "- q = percentage value i.e 75,25,\n"
   ]
  },
  {
   "cell_type": "markdown",
   "id": "bc92c7fe-85a7-43b8-81be-fbd0de5cfeee",
   "metadata": {},
   "source": [
    "**np.quantile()**"
   ]
  },
  {
   "cell_type": "markdown",
   "id": "bdeaa36e-3875-45f1-97ee-49e8ba567d7a",
   "metadata": {},
   "source": [
    "in numpy we have percentile\n",
    "\n",
    "-it takes two values\n",
    " -a=array= data\n",
    " -q=quantile data between 0,1\n",
    " - if u want 25p => q=0.25 , 75p => q=0.75"
   ]
  },
  {
   "cell_type": "code",
   "execution_count": 100,
   "id": "6a964a92-b06c-4e78-9b4c-a81f61d2bad4",
   "metadata": {},
   "outputs": [
    {
     "data": {
      "text/plain": [
       "34015.479999999996"
      ]
     },
     "execution_count": 100,
     "metadata": {},
     "output_type": "execute_result"
    }
   ],
   "source": [
    "np.percentile(a=visa_f['prevailing_wage'],q=25)# 0-100"
   ]
  },
  {
   "cell_type": "code",
   "execution_count": 101,
   "id": "71b60f68-6e6d-49a4-9165-9eed7bcb1016",
   "metadata": {},
   "outputs": [
    {
     "data": {
      "text/plain": [
       "34015.479999999996"
      ]
     },
     "execution_count": 101,
     "metadata": {},
     "output_type": "execute_result"
    }
   ],
   "source": [
    "np.quantile(visa_f['prevailing_wage'],0.25)#0-1"
   ]
  },
  {
   "cell_type": "code",
   "execution_count": 102,
   "id": "dab446b6-8917-44a0-a3ea-0a605d2b1e1b",
   "metadata": {},
   "outputs": [
    {
     "data": {
      "text/plain": [
       "97922.56839999999"
      ]
     },
     "execution_count": 102,
     "metadata": {},
     "output_type": "execute_result"
    }
   ],
   "source": [
    "np.quantile(visa_f['prevailing_wage'],0.69)#0-1"
   ]
  },
  {
   "cell_type": "code",
   "execution_count": 103,
   "id": "c920350e-4e82-43cb-b223-7718fea36df5",
   "metadata": {},
   "outputs": [
    {
     "data": {
      "text/plain": [
       "108769.85"
      ]
     },
     "execution_count": 103,
     "metadata": {},
     "output_type": "execute_result"
    }
   ],
   "source": [
    "round(np.percentile(visa_f['prevailing_wage'],75.5662),2)"
   ]
  },
  {
   "cell_type": "code",
   "execution_count": 104,
   "id": "79451f8b-bf7d-40ed-97c1-e50a35859137",
   "metadata": {},
   "outputs": [],
   "source": [
    "p75=round(np.percentile(visa_f['prevailing_wage'],75),2)\n",
    "p50=round(np.percentile(visa_f['prevailing_wage'],50),2)\n",
    "p25=round(np.percentile(visa_f['prevailing_wage'],25),2)"
   ]
  },
  {
   "cell_type": "code",
   "execution_count": 105,
   "id": "b44ed18c-c9e9-4c18-8707-2266430dc20f",
   "metadata": {},
   "outputs": [],
   "source": [
    "lis.append(p25)\n",
    "lis.append(p50)\n",
    "lis.append(p75)"
   ]
  },
  {
   "cell_type": "code",
   "execution_count": 106,
   "id": "f8223dc8-453a-4ede-af39-57337dc9951a",
   "metadata": {},
   "outputs": [
    {
     "data": {
      "text/html": [
       "<div>\n",
       "<style scoped>\n",
       "    .dataframe tbody tr th:only-of-type {\n",
       "        vertical-align: middle;\n",
       "    }\n",
       "\n",
       "    .dataframe tbody tr th {\n",
       "        vertical-align: top;\n",
       "    }\n",
       "\n",
       "    .dataframe thead th {\n",
       "        text-align: right;\n",
       "    }\n",
       "</style>\n",
       "<table border=\"1\" class=\"dataframe\">\n",
       "  <thead>\n",
       "    <tr style=\"text-align: right;\">\n",
       "      <th></th>\n",
       "      <th>privailing_wage</th>\n",
       "    </tr>\n",
       "  </thead>\n",
       "  <tbody>\n",
       "    <tr>\n",
       "      <th>median</th>\n",
       "      <td>70308.21</td>\n",
       "    </tr>\n",
       "    <tr>\n",
       "      <th>mean</th>\n",
       "      <td>74455.81</td>\n",
       "    </tr>\n",
       "    <tr>\n",
       "      <th>std</th>\n",
       "      <td>52815.94</td>\n",
       "    </tr>\n",
       "    <tr>\n",
       "      <th>count</th>\n",
       "      <td>25480.00</td>\n",
       "    </tr>\n",
       "    <tr>\n",
       "      <th>max</th>\n",
       "      <td>319210.27</td>\n",
       "    </tr>\n",
       "    <tr>\n",
       "      <th>min</th>\n",
       "      <td>2.14</td>\n",
       "    </tr>\n",
       "    <tr>\n",
       "      <th>25p</th>\n",
       "      <td>34015.48</td>\n",
       "    </tr>\n",
       "    <tr>\n",
       "      <th>50p</th>\n",
       "      <td>70308.21</td>\n",
       "    </tr>\n",
       "    <tr>\n",
       "      <th>75p</th>\n",
       "      <td>107735.51</td>\n",
       "    </tr>\n",
       "  </tbody>\n",
       "</table>\n",
       "</div>"
      ],
      "text/plain": [
       "        privailing_wage\n",
       "median         70308.21\n",
       "mean           74455.81\n",
       "std            52815.94\n",
       "count          25480.00\n",
       "max           319210.27\n",
       "min                2.14\n",
       "25p            34015.48\n",
       "50p            70308.21\n",
       "75p           107735.51"
      ]
     },
     "execution_count": 106,
     "metadata": {},
     "output_type": "execute_result"
    }
   ],
   "source": [
    "i=['median','mean','std','count','max','min','25p','50p','75p']\n",
    "wage_dt=pd.DataFrame(lis,columns=['privailing_wage'],index=i)\n",
    "wage_dt"
   ]
  },
  {
   "cell_type": "code",
   "execution_count": 107,
   "id": "0ff25c95-8354-4606-88c8-907b61a6ac32",
   "metadata": {},
   "outputs": [
    {
     "data": {
      "text/plain": [
       "['no_of_employees', 'yr_of_estab', 'prevailing_wage']"
      ]
     },
     "execution_count": 107,
     "metadata": {},
     "output_type": "execute_result"
    }
   ],
   "source": [
    "num_cols"
   ]
  },
  {
   "cell_type": "code",
   "execution_count": 292,
   "id": "00ca4ff7-926f-4998-801f-0db709201f29",
   "metadata": {},
   "outputs": [],
   "source": [
    "d=pd.DataFrame()\n",
    "for i in num_cols:\n",
    "    mean=round(visa_f[i].mean(),2)\n",
    "    med=round(visa_f[i].median(),2)\n",
    "    std=round(visa_f[i].std(),2)\n",
    "    c=len(visa_f[i])\n",
    "    ma=round(max(visa_f[i]),2)\n",
    "    mi=round(min(visa_f[i]),2)\n",
    "    p75=round(np.percentile(visa_f[i],75),2)\n",
    "    p50=round(np.percentile(visa_f[i],50),2)\n",
    "    p25=round(np.percentile(visa_f[i],25),2)\n",
    "    pli=[mean,med,std,c,ma,mi,p25,p50,p75]\n",
    "    index=['Mean','Median','STD','Count','Max','Min','25p','50p','75p']\n",
    "    wage_dt=pd.DataFrame(pli,index=index,columns=[i])\n",
    "    d=pd.concat([d,wage_dt],axis=1)"
   ]
  },
  {
   "cell_type": "code",
   "execution_count": null,
   "id": "dec7cdf7-e29e-49a8-bf06-5c172a7fb268",
   "metadata": {},
   "outputs": [],
   "source": []
  },
  {
   "cell_type": "code",
   "execution_count": 294,
   "id": "fda4ea79-8c08-4a08-b81f-332b7f4d85a5",
   "metadata": {},
   "outputs": [
    {
     "data": {
      "text/html": [
       "<div>\n",
       "<style scoped>\n",
       "    .dataframe tbody tr th:only-of-type {\n",
       "        vertical-align: middle;\n",
       "    }\n",
       "\n",
       "    .dataframe tbody tr th {\n",
       "        vertical-align: top;\n",
       "    }\n",
       "\n",
       "    .dataframe thead th {\n",
       "        text-align: right;\n",
       "    }\n",
       "</style>\n",
       "<table border=\"1\" class=\"dataframe\">\n",
       "  <thead>\n",
       "    <tr style=\"text-align: right;\">\n",
       "      <th></th>\n",
       "      <th>no_of_employees</th>\n",
       "      <th>yr_of_estab</th>\n",
       "      <th>prevailing_wage</th>\n",
       "    </tr>\n",
       "  </thead>\n",
       "  <tbody>\n",
       "    <tr>\n",
       "      <th>Mean</th>\n",
       "      <td>5667.04</td>\n",
       "      <td>1979.41</td>\n",
       "      <td>74455.81</td>\n",
       "    </tr>\n",
       "    <tr>\n",
       "      <th>Median</th>\n",
       "      <td>2109.00</td>\n",
       "      <td>1997.00</td>\n",
       "      <td>70308.21</td>\n",
       "    </tr>\n",
       "    <tr>\n",
       "      <th>STD</th>\n",
       "      <td>22877.93</td>\n",
       "      <td>42.37</td>\n",
       "      <td>52815.94</td>\n",
       "    </tr>\n",
       "    <tr>\n",
       "      <th>Count</th>\n",
       "      <td>25480.00</td>\n",
       "      <td>25480.00</td>\n",
       "      <td>25480.00</td>\n",
       "    </tr>\n",
       "    <tr>\n",
       "      <th>Max</th>\n",
       "      <td>602069.00</td>\n",
       "      <td>2016.00</td>\n",
       "      <td>319210.27</td>\n",
       "    </tr>\n",
       "    <tr>\n",
       "      <th>Min</th>\n",
       "      <td>-26.00</td>\n",
       "      <td>1800.00</td>\n",
       "      <td>2.14</td>\n",
       "    </tr>\n",
       "    <tr>\n",
       "      <th>25p</th>\n",
       "      <td>1022.00</td>\n",
       "      <td>1976.00</td>\n",
       "      <td>34015.48</td>\n",
       "    </tr>\n",
       "    <tr>\n",
       "      <th>50p</th>\n",
       "      <td>2109.00</td>\n",
       "      <td>1997.00</td>\n",
       "      <td>70308.21</td>\n",
       "    </tr>\n",
       "    <tr>\n",
       "      <th>75p</th>\n",
       "      <td>3504.00</td>\n",
       "      <td>2005.00</td>\n",
       "      <td>107735.51</td>\n",
       "    </tr>\n",
       "  </tbody>\n",
       "</table>\n",
       "</div>"
      ],
      "text/plain": [
       "        no_of_employees  yr_of_estab  prevailing_wage\n",
       "Mean            5667.04      1979.41         74455.81\n",
       "Median          2109.00      1997.00         70308.21\n",
       "STD            22877.93        42.37         52815.94\n",
       "Count          25480.00     25480.00         25480.00\n",
       "Max           602069.00      2016.00        319210.27\n",
       "Min              -26.00      1800.00             2.14\n",
       "25p             1022.00      1976.00         34015.48\n",
       "50p             2109.00      1997.00         70308.21\n",
       "75p             3504.00      2005.00        107735.51"
      ]
     },
     "execution_count": 294,
     "metadata": {},
     "output_type": "execute_result"
    }
   ],
   "source": [
    "d"
   ]
  },
  {
   "cell_type": "markdown",
   "id": "7ea9f8fc-e279-483b-9b20-7a34653a9375",
   "metadata": {},
   "source": [
    "**percentile**"
   ]
  },
  {
   "cell_type": "raw",
   "id": "0c80135b-02fe-40c2-9b81-9a0a8b120e71",
   "metadata": {},
   "source": [
    "25p = x ===> means 25% of data less than the value  x\n",
    "ex- 25p = 50000\n",
    "    - means 25% of people has sal equal to or less than 50000\n",
    "    - 25% of 25480= 6370 ==> which implies 6370 people has salary less than 50000"
   ]
  },
  {
   "cell_type": "code",
   "execution_count": 111,
   "id": "bd677c46-f981-409e-866f-596979ef4139",
   "metadata": {},
   "outputs": [
    {
     "data": {
      "text/plain": [
       "6370.0"
      ]
     },
     "execution_count": 111,
     "metadata": {},
     "output_type": "execute_result"
    }
   ],
   "source": [
    "(25/100)*25480"
   ]
  },
  {
   "cell_type": "code",
   "execution_count": 112,
   "id": "90f82715-6d9c-4baa-9ed6-24e2f3bc85f5",
   "metadata": {},
   "outputs": [
    {
     "data": {
      "text/plain": [
       "6370"
      ]
     },
     "execution_count": 112,
     "metadata": {},
     "output_type": "execute_result"
    }
   ],
   "source": [
    "wd=visa_f['prevailing_wage']\n",
    "p_25=np.percentile(visa_f['prevailing_wage'],25)\n",
    "con=wd<p_25\n",
    "per25=len(visa_f[con])\n",
    "per25"
   ]
  },
  {
   "cell_type": "code",
   "execution_count": null,
   "id": "85c5cc14-d820-4bab-a1bf-2f4377b373ca",
   "metadata": {},
   "outputs": [],
   "source": []
  },
  {
   "cell_type": "code",
   "execution_count": 113,
   "id": "52f9d6d4-a867-4344-aae6-03fa5df3adc8",
   "metadata": {},
   "outputs": [
    {
     "data": {
      "text/plain": [
       "12740"
      ]
     },
     "execution_count": 113,
     "metadata": {},
     "output_type": "execute_result"
    }
   ],
   "source": [
    "wd=visa_f['prevailing_wage']\n",
    "p_50=np.percentile(visa_f['prevailing_wage'],50)\n",
    "con=wd<p_50\n",
    "per50=len(visa_f[con])\n",
    "per50"
   ]
  },
  {
   "cell_type": "code",
   "execution_count": 114,
   "id": "89588160-b762-4fb2-a8ea-1fca041f84a1",
   "metadata": {},
   "outputs": [
    {
     "data": {
      "text/plain": [
       "19110"
      ]
     },
     "execution_count": 114,
     "metadata": {},
     "output_type": "execute_result"
    }
   ],
   "source": [
    "wd=visa_f['prevailing_wage']\n",
    "p_75=np.percentile(visa_f['prevailing_wage'],75)\n",
    "con=wd<p_75\n",
    "per75=len(visa_f[con])\n",
    "per75"
   ]
  },
  {
   "cell_type": "code",
   "execution_count": 115,
   "id": "a05a2a40-f165-406a-98ca-b8a0720c7620",
   "metadata": {},
   "outputs": [
    {
     "data": {
      "text/plain": [
       "True"
      ]
     },
     "execution_count": 115,
     "metadata": {},
     "output_type": "execute_result"
    }
   ],
   "source": [
    "len(visa_f['prevailing_wage'])==(-per25)+per50+per75"
   ]
  },
  {
   "cell_type": "code",
   "execution_count": null,
   "id": "90b6f8ad-4e75-4ae5-affb-90f4e98331ef",
   "metadata": {},
   "outputs": [],
   "source": []
  },
  {
   "cell_type": "code",
   "execution_count": 116,
   "id": "12c925be-3200-4585-81d8-d0971a5f2ac4",
   "metadata": {},
   "outputs": [
    {
     "data": {
      "text/plain": [
       "25480"
      ]
     },
     "execution_count": 116,
     "metadata": {},
     "output_type": "execute_result"
    }
   ],
   "source": [
    "len(visa_f['prevailing_wage'])"
   ]
  },
  {
   "cell_type": "raw",
   "id": "24a22982-566d-4549-9791-ddce93de8712",
   "metadata": {},
   "source": [
    "emperical rule=\n",
    "mean-1*std to mean+1*std = 68% data will be covered\n",
    "mean-2*std to mean+2*std = 95% data will be covered\n",
    "mean-3*std to mean+3*std = 99.7% data will be covered"
   ]
  },
  {
   "cell_type": "code",
   "execution_count": 117,
   "id": "8b1a6131-9f5d-43da-89e6-cc76a9e22a74",
   "metadata": {},
   "outputs": [
    {
     "data": {
      "text/plain": [
       "74455.81"
      ]
     },
     "execution_count": 117,
     "metadata": {},
     "output_type": "execute_result"
    }
   ],
   "source": [
    "#prove\n",
    "#step 1-\n",
    "mean"
   ]
  },
  {
   "cell_type": "code",
   "execution_count": 118,
   "id": "2628e69f-3966-4785-841c-5f4bbace6703",
   "metadata": {},
   "outputs": [
    {
     "data": {
      "text/plain": [
       "52815.94"
      ]
     },
     "execution_count": 118,
     "metadata": {},
     "output_type": "execute_result"
    }
   ],
   "source": [
    "#step-2 \n",
    "std"
   ]
  },
  {
   "cell_type": "code",
   "execution_count": 119,
   "id": "a3ee182b-6dfc-478b-bb75-1181a4b62b2f",
   "metadata": {},
   "outputs": [],
   "source": [
    "#step-3\n",
    "lb=mean-1*std\n",
    "ub=mean+1*std"
   ]
  },
  {
   "cell_type": "code",
   "execution_count": 120,
   "id": "b1f05da0-0a01-44d2-bfaa-0f73ab715298",
   "metadata": {},
   "outputs": [
    {
     "data": {
      "text/plain": [
       "21639.869999999995"
      ]
     },
     "execution_count": 120,
     "metadata": {},
     "output_type": "execute_result"
    }
   ],
   "source": [
    "lb"
   ]
  },
  {
   "cell_type": "code",
   "execution_count": 121,
   "id": "6e5e6568-3d82-4c0f-8fd6-cd2b6aabc1f5",
   "metadata": {},
   "outputs": [
    {
     "data": {
      "text/plain": [
       "127271.75"
      ]
     },
     "execution_count": 121,
     "metadata": {},
     "output_type": "execute_result"
    }
   ],
   "source": [
    "ub"
   ]
  },
  {
   "cell_type": "code",
   "execution_count": 122,
   "id": "e1671bf3-4122-418a-85c4-51fdcf9ce570",
   "metadata": {},
   "outputs": [
    {
     "data": {
      "text/plain": [
       "25480"
      ]
     },
     "execution_count": 122,
     "metadata": {},
     "output_type": "execute_result"
    }
   ],
   "source": [
    "len(wd)"
   ]
  },
  {
   "cell_type": "code",
   "execution_count": 123,
   "id": "b386e49c-5eb3-4db2-a0d3-0c5f959f3c23",
   "metadata": {},
   "outputs": [
    {
     "data": {
      "text/plain": [
       "17171"
      ]
     },
     "execution_count": 123,
     "metadata": {},
     "output_type": "execute_result"
    }
   ],
   "source": [
    "#step - 4\n",
    "lb=mean-1*std\n",
    "ub=mean+1*std\n",
    "con1=wd<ub\n",
    "con2=wd>lb\n",
    "con3=(con1 & con2)\n",
    "len(visa_f[con3])"
   ]
  },
  {
   "cell_type": "code",
   "execution_count": 124,
   "id": "30556b34-722e-461b-9302-bbc6870686e6",
   "metadata": {},
   "outputs": [
    {
     "data": {
      "text/plain": [
       "17326.4"
      ]
     },
     "execution_count": 124,
     "metadata": {},
     "output_type": "execute_result"
    }
   ],
   "source": [
    "(68/100)*len(wd)"
   ]
  },
  {
   "cell_type": "code",
   "execution_count": 125,
   "id": "ba8ea46d-ba9c-4974-abb7-591628b62870",
   "metadata": {},
   "outputs": [
    {
     "data": {
      "text/plain": [
       "24582"
      ]
     },
     "execution_count": 125,
     "metadata": {},
     "output_type": "execute_result"
    }
   ],
   "source": [
    "lb=mean-2*std\n",
    "ub=mean+2*std\n",
    "con1=wd<ub\n",
    "con2=wd>lb\n",
    "con3=(con1 & con2)\n",
    "len(visa_f[con3])"
   ]
  },
  {
   "cell_type": "code",
   "execution_count": 126,
   "id": "94defd13-4eb3-42fe-95c6-2bf9e23b0d6e",
   "metadata": {},
   "outputs": [
    {
     "data": {
      "text/plain": [
       "24206.0"
      ]
     },
     "execution_count": 126,
     "metadata": {},
     "output_type": "execute_result"
    }
   ],
   "source": [
    "(95/100)*len(visa_f)"
   ]
  },
  {
   "cell_type": "code",
   "execution_count": 127,
   "id": "215905cc-0820-47e6-ac01-3b29f0cea08b",
   "metadata": {},
   "outputs": [
    {
     "data": {
      "text/plain": [
       "25186"
      ]
     },
     "execution_count": 127,
     "metadata": {},
     "output_type": "execute_result"
    }
   ],
   "source": [
    "lb=mean-3*std\n",
    "ub=mean+3*std\n",
    "con1=wd<ub\n",
    "con2=wd>lb\n",
    "con3=(con1 & con2)\n",
    "len(visa_f[con3])"
   ]
  },
  {
   "cell_type": "code",
   "execution_count": 128,
   "id": "7ed18b9c-d36b-4742-b454-5574833a2937",
   "metadata": {},
   "outputs": [
    {
     "data": {
      "text/plain": [
       "25403.56"
      ]
     },
     "execution_count": 128,
     "metadata": {},
     "output_type": "execute_result"
    }
   ],
   "source": [
    "(99.7/100)*len(visa_f)"
   ]
  },
  {
   "cell_type": "code",
   "execution_count": 129,
   "id": "022e0149-4f53-4c03-a102-323c17c0aa2d",
   "metadata": {},
   "outputs": [
    {
     "data": {
      "text/plain": [
       "25480"
      ]
     },
     "execution_count": 129,
     "metadata": {},
     "output_type": "execute_result"
    }
   ],
   "source": [
    "len(visa_f)"
   ]
  },
  {
   "cell_type": "code",
   "execution_count": 130,
   "id": "e53b2ce5-14d3-4975-804f-30e7108cfcbb",
   "metadata": {},
   "outputs": [
    {
     "data": {
      "text/plain": [
       "True"
      ]
     },
     "execution_count": 130,
     "metadata": {},
     "output_type": "execute_result"
    }
   ],
   "source": [
    "len(wd)==len(visa_f)"
   ]
  },
  {
   "cell_type": "code",
   "execution_count": 131,
   "id": "459cbd85-1037-4747-9e13-1d377283d7c2",
   "metadata": {},
   "outputs": [
    {
     "data": {
      "text/plain": [
       "0           592.2029\n",
       "1         83425.6500\n",
       "2        122996.8600\n",
       "3         83434.0300\n",
       "4        149907.3900\n",
       "            ...     \n",
       "25475     77092.5700\n",
       "25476    279174.7900\n",
       "25477    146298.8500\n",
       "25478     86154.7700\n",
       "25479     70876.9100\n",
       "Name: prevailing_wage, Length: 25480, dtype: float64"
      ]
     },
     "execution_count": 131,
     "metadata": {},
     "output_type": "execute_result"
    }
   ],
   "source": [
    "wd"
   ]
  },
  {
   "cell_type": "code",
   "execution_count": 132,
   "id": "d1313b4e-68d8-45d7-beed-23d4bdb1285d",
   "metadata": {},
   "outputs": [
    {
     "name": "stdout",
     "output_type": "stream",
     "text": [
      "[(857, '68% of no_of_employees'), (25404, '95% of no_of_employees'), (25420, '99.7% of no_of_employees')]\n",
      "[(857, '68% of yr_of_estab'), (25404, '95% of yr_of_estab'), (25420, '99.7% of yr_of_estab')]\n",
      "[(857, '68% of prevailing_wage'), (25404, '95% of prevailing_wage'), (25420, '99.7% of prevailing_wage')]\n"
     ]
    }
   ],
   "source": [
    "list1=[]\n",
    "for j in num_cols:\n",
    "    wd=visa_f[j]\n",
    "    mean1=round(visa_f[j].mean(),2)\n",
    "    median1=round(visa_f[j].median(),2)\n",
    "    for i in range(1,4):\n",
    "        lb=mean-i*std\n",
    "        ub=mean+i*std\n",
    "        con1=wd<ub\n",
    "        con2=wd>lb\n",
    "        con3=(con1 & con2)\n",
    "        list1.append(len(visa_f[con3]))\n",
    "    list2=[f'68% of {j}',f'95% of {j}',f'99.7% of {j}']\n",
    "    print(list(zip(list1,list2)))"
   ]
  },
  {
   "cell_type": "code",
   "execution_count": 133,
   "id": "e30cd29e-944d-4813-87d2-74de37b35658",
   "metadata": {},
   "outputs": [
    {
     "data": {
      "text/plain": [
       "0"
      ]
     },
     "execution_count": 133,
     "metadata": {},
     "output_type": "execute_result"
    }
   ],
   "source": [
    "wd=visa_f['yr_of_estab']\n",
    "mean1=round(visa_f['yr_of_estab'].mean(),2)\n",
    "median1=round(visa_f['yr_of_estab'].median(),2)\n",
    "lb=mean-1*std\n",
    "ub=mean+1*std\n",
    "con1=wd<ub\n",
    "con2=wd>lb\n",
    "con3=(con1 & con2)\n",
    "len(visa_f[con3])"
   ]
  },
  {
   "cell_type": "code",
   "execution_count": null,
   "id": "b7c06600-bf6c-478b-b18b-5accc83d6546",
   "metadata": {},
   "outputs": [],
   "source": []
  },
  {
   "cell_type": "code",
   "execution_count": 134,
   "id": "8b20d583-73f2-4ba4-a5e9-c1546d8e9dc6",
   "metadata": {},
   "outputs": [
    {
     "name": "stdout",
     "output_type": "stream",
     "text": [
      "[('99.7% of no_of_employees=', 25051), ('95% of no_of_employees=', 24915), ('68% of no_of_employees=', 24674)]\n",
      "[('99.7% of yr_of_estab=', 24785), ('95% of yr_of_estab=', 23527), ('68% of yr_of_estab=', 22080)]\n",
      "[('99.7% of prevailing_wage=', 25186), ('95% of prevailing_wage=', 24582), ('68% of prevailing_wage=', 17171)]\n"
     ]
    }
   ],
   "source": [
    "nl=[]\n",
    "for i in num_cols:\n",
    "    yr=visa_f[i]\n",
    "    meanyr=visa_f[i].mean()\n",
    "    stdyr=visa_f[i].std()\n",
    "    for j in range(1,4):\n",
    "        lowb=meanyr-j*stdyr\n",
    "        uppb=meanyr+j*stdyr\n",
    "        con1=yr>lowb\n",
    "        con2=yr<uppb\n",
    "        con3=con1 & con2\n",
    "        nl.append(len(visa_f[con3]))\n",
    "    nl2=[f'99.7% of {i}=',f'95% of {i}=',f'68% of {i}=']\n",
    "    nl3=list(zip(nl2,nl[::-1]))\n",
    "    print(nl3)"
   ]
  },
  {
   "cell_type": "markdown",
   "id": "fb71ebee-fe8d-437c-a17d-72dff3933bd4",
   "metadata": {},
   "source": [
    "-by applying  imperical rule we obser slight deviation in the count of data\n",
    "\n",
    "-also mean is slightly deviated from median\n",
    "\n",
    "-this gives an indication that the data does not follow normal distribution\n",
    "\n",
    "-to understand more clearly we will visualizw the data using histogram(numerical data)\n",
    "\n",
    "-histrogram is a grpg between class intervals and class interval frequency\n",
    "\n",
    "-the plot is available in matplotlib.pyplot\n",
    "\n",
    "-the method name is hist"
   ]
  },
  {
   "cell_type": "code",
   "execution_count": 136,
   "id": "41e6cd75-3106-494f-9a3b-aabf60b9becf",
   "metadata": {},
   "outputs": [
    {
     "data": {
      "image/png": "[encoded data removed]",
      "text/plain": [
       "<Figure size 640x480 with 1 Axes>"
      ]
     },
     "metadata": {},
     "output_type": "display_data"
    }
   ],
   "source": [
    "a=visa_f['prevailing_wage']\n",
    "new=a.plot(kind='hist')\n"
   ]
  },
  {
   "cell_type": "code",
   "execution_count": 137,
   "id": "c6472711-3743-4c83-929f-8efcba730581",
   "metadata": {
    "scrolled": true
   },
   "outputs": [
    {
     "name": "stdout",
     "output_type": "stream",
     "text": [
      "20\n",
      "[2.13670000e+00 1.59625434e+04 3.19229500e+04 4.78833567e+04\n",
      " 6.38437634e+04 7.98041700e+04 9.57645767e+04 1.11724983e+05\n",
      " 1.27685390e+05 1.43645797e+05 1.59606203e+05 1.75566610e+05\n",
      " 1.91527017e+05 2.07487423e+05 2.23447830e+05 2.39408237e+05\n",
      " 2.55368643e+05 2.71329050e+05 2.87289457e+05 3.03249863e+05\n",
      " 3.19210270e+05]\n",
      "<BarContainer object of 20 artists>\n",
      "[3863. 2175. 2676. 2828. 2889. 2792. 2485. 2066. 1452.  882.  408.  216.\n",
      "  206.  167.  129.  111.   66.   48.   10.   11.]\n"
     ]
    },
    {
     "data": {
      "image/png": "[encoded data removed]",
      "text/plain": [
       "<Figure size 640x480 with 1 Axes>"
      ]
     },
     "metadata": {},
     "output_type": "display_data"
    }
   ],
   "source": [
    "import matplotlib.pyplot as plt\n",
    "a=visa_f['prevailing_wage']\n",
    "c,bins,x=plt.hist(a,bins=20)\n",
    "print(len(c))\n",
    "print(bins)\n",
    "print(x)\n",
    "print(c)"
   ]
  },
  {
   "cell_type": "code",
   "execution_count": 138,
   "id": "97544516-e3a8-435e-a00c-99bf483cc72f",
   "metadata": {},
   "outputs": [
    {
     "data": {
      "text/plain": [
       "(array([3863., 2175., 2676., 2828., 2889., 2792., 2485., 2066., 1452.,\n",
       "         882.,  408.,  216.,  206.,  167.,  129.,  111.,   66.,   48.,\n",
       "          10.,   11.]),\n",
       " array([2.13670000e+00, 1.59625434e+04, 3.19229500e+04, 4.78833567e+04,\n",
       "        6.38437634e+04, 7.98041700e+04, 9.57645767e+04, 1.11724983e+05,\n",
       "        1.27685390e+05, 1.43645797e+05, 1.59606203e+05, 1.75566610e+05,\n",
       "        1.91527017e+05, 2.07487423e+05, 2.23447830e+05, 2.39408237e+05,\n",
       "        2.55368643e+05, 2.71329050e+05, 2.87289457e+05, 3.03249863e+05,\n",
       "        3.19210270e+05]),\n",
       " <BarContainer object of 20 artists>)"
      ]
     },
     "execution_count": 138,
     "metadata": {},
     "output_type": "execute_result"
    },
    {
     "data": {
      "image/png": "[encoded data removed]",
      "text/plain": [
       "<Figure size 640x480 with 1 Axes>"
      ]
     },
     "metadata": {},
     "output_type": "display_data"
    }
   ],
   "source": [
    "import matplotlib.pyplot as plt\n",
    "a=visa_f['prevailing_wage']\n",
    "plt.hist(a,bins=20)"
   ]
  },
  {
   "cell_type": "markdown",
   "id": "5cdada0a-2f5f-4ed9-9fe3-8fa7669429e7",
   "metadata": {},
   "source": [
    "- histogram will return 3 values \n",
    "\n",
    "    - interval count == array\n",
    "\n",
    "        - we have 20 interval so we have 20 interval counts\n",
    "\n",
    "    - bins ==> number of intervals\n",
    "\n",
    "        - we have 20 intervals so will need 21 values\n",
    "\n",
    "    - will how many intervals are availabale\n",
    "\n",
    "- for ex in the bins array the first two forms one interval\n",
    "\n",
    "-2.1367 to 15962.5434 the count is 3863\n",
    "\n",
    "-in between 15962.5434 to 31922.9500 the number of observation is 2175\n",
    "\n",
    "    "
   ]
  },
  {
   "cell_type": "code",
   "execution_count": 140,
   "id": "c4ea27c9-0d6b-409d-8db1-0d26bf2a43e1",
   "metadata": {},
   "outputs": [
    {
     "data": {
      "text/plain": [
       "3862"
      ]
     },
     "execution_count": 140,
     "metadata": {},
     "output_type": "execute_result"
    }
   ],
   "source": [
    "lower=2.13670000e+0\n",
    "upper=1.59625434e+04\n",
    "con1=a>lower\n",
    "con2=a<upper\n",
    "con3= con1 & con2\n",
    "len(visa_f[con3])"
   ]
  },
  {
   "cell_type": "code",
   "execution_count": 141,
   "id": "244ab0ca-c51b-49bb-ace9-2728f224d759",
   "metadata": {},
   "outputs": [
    {
     "name": "stdout",
     "output_type": "stream",
     "text": [
      "[ True  True  True  True  True  True  True  True  True  True  True  True\n",
      "  True  True  True  True  True  True  True  True]\n",
      "True\n"
     ]
    }
   ],
   "source": [
    "li=[]\n",
    "for i in range(len(bins)-1):\n",
    "    lower=bins[i]\n",
    "    upper=bins[i+1]\n",
    "    con1=a>=lower\n",
    "    con2=a<=upper\n",
    "    con3= con1 & con2\n",
    "    li.append(len(visa_f[con3]))\n",
    "print(li==c)\n",
    "print(len(li)==len(c))"
   ]
  },
  {
   "cell_type": "code",
   "execution_count": 290,
   "id": "ca477abb-4992-4bd3-aec9-10bffbb48f11",
   "metadata": {},
   "outputs": [
    {
     "data": {
      "text/html": [
       "<div>\n",
       "<style scoped>\n",
       "    .dataframe tbody tr th:only-of-type {\n",
       "        vertical-align: middle;\n",
       "    }\n",
       "\n",
       "    .dataframe tbody tr th {\n",
       "        vertical-align: top;\n",
       "    }\n",
       "\n",
       "    .dataframe thead th {\n",
       "        text-align: right;\n",
       "    }\n",
       "</style>\n",
       "<table border=\"1\" class=\"dataframe\">\n",
       "  <thead>\n",
       "    <tr style=\"text-align: right;\">\n",
       "      <th></th>\n",
       "      <th>intervals</th>\n",
       "      <th>observ</th>\n",
       "    </tr>\n",
       "  </thead>\n",
       "  <tbody>\n",
       "    <tr>\n",
       "      <th>0</th>\n",
       "      <td>2.137-15962.543</td>\n",
       "      <td>3863.0</td>\n",
       "    </tr>\n",
       "    <tr>\n",
       "      <th>1</th>\n",
       "      <td>15962.543-31922.95</td>\n",
       "      <td>2175.0</td>\n",
       "    </tr>\n",
       "    <tr>\n",
       "      <th>2</th>\n",
       "      <td>31922.95-47883.357</td>\n",
       "      <td>2676.0</td>\n",
       "    </tr>\n",
       "    <tr>\n",
       "      <th>3</th>\n",
       "      <td>47883.357-63843.763</td>\n",
       "      <td>2828.0</td>\n",
       "    </tr>\n",
       "    <tr>\n",
       "      <th>4</th>\n",
       "      <td>63843.763-79804.17</td>\n",
       "      <td>2889.0</td>\n",
       "    </tr>\n",
       "    <tr>\n",
       "      <th>5</th>\n",
       "      <td>79804.17-95764.577</td>\n",
       "      <td>2792.0</td>\n",
       "    </tr>\n",
       "    <tr>\n",
       "      <th>6</th>\n",
       "      <td>95764.577-111724.983</td>\n",
       "      <td>2485.0</td>\n",
       "    </tr>\n",
       "    <tr>\n",
       "      <th>7</th>\n",
       "      <td>111724.983-127685.39</td>\n",
       "      <td>2066.0</td>\n",
       "    </tr>\n",
       "    <tr>\n",
       "      <th>8</th>\n",
       "      <td>127685.39-143645.797</td>\n",
       "      <td>1452.0</td>\n",
       "    </tr>\n",
       "    <tr>\n",
       "      <th>9</th>\n",
       "      <td>143645.797-159606.203</td>\n",
       "      <td>882.0</td>\n",
       "    </tr>\n",
       "    <tr>\n",
       "      <th>10</th>\n",
       "      <td>159606.203-175566.61</td>\n",
       "      <td>408.0</td>\n",
       "    </tr>\n",
       "    <tr>\n",
       "      <th>11</th>\n",
       "      <td>175566.61-191527.017</td>\n",
       "      <td>216.0</td>\n",
       "    </tr>\n",
       "    <tr>\n",
       "      <th>12</th>\n",
       "      <td>191527.017-207487.423</td>\n",
       "      <td>206.0</td>\n",
       "    </tr>\n",
       "    <tr>\n",
       "      <th>13</th>\n",
       "      <td>207487.423-223447.83</td>\n",
       "      <td>167.0</td>\n",
       "    </tr>\n",
       "    <tr>\n",
       "      <th>14</th>\n",
       "      <td>223447.83-239408.237</td>\n",
       "      <td>129.0</td>\n",
       "    </tr>\n",
       "    <tr>\n",
       "      <th>15</th>\n",
       "      <td>239408.237-255368.643</td>\n",
       "      <td>111.0</td>\n",
       "    </tr>\n",
       "    <tr>\n",
       "      <th>16</th>\n",
       "      <td>255368.643-271329.05</td>\n",
       "      <td>66.0</td>\n",
       "    </tr>\n",
       "    <tr>\n",
       "      <th>17</th>\n",
       "      <td>271329.05-287289.457</td>\n",
       "      <td>48.0</td>\n",
       "    </tr>\n",
       "    <tr>\n",
       "      <th>18</th>\n",
       "      <td>287289.457-303249.863</td>\n",
       "      <td>10.0</td>\n",
       "    </tr>\n",
       "    <tr>\n",
       "      <th>19</th>\n",
       "      <td>303249.863-319210.27</td>\n",
       "      <td>11.0</td>\n",
       "    </tr>\n",
       "  </tbody>\n",
       "</table>\n",
       "</div>"
      ],
      "text/plain": [
       "                intervals  observ\n",
       "0         2.137-15962.543  3863.0\n",
       "1      15962.543-31922.95  2175.0\n",
       "2      31922.95-47883.357  2676.0\n",
       "3     47883.357-63843.763  2828.0\n",
       "4      63843.763-79804.17  2889.0\n",
       "5      79804.17-95764.577  2792.0\n",
       "6    95764.577-111724.983  2485.0\n",
       "7    111724.983-127685.39  2066.0\n",
       "8    127685.39-143645.797  1452.0\n",
       "9   143645.797-159606.203   882.0\n",
       "10   159606.203-175566.61   408.0\n",
       "11   175566.61-191527.017   216.0\n",
       "12  191527.017-207487.423   206.0\n",
       "13   207487.423-223447.83   167.0\n",
       "14   223447.83-239408.237   129.0\n",
       "15  239408.237-255368.643   111.0\n",
       "16   255368.643-271329.05    66.0\n",
       "17   271329.05-287289.457    48.0\n",
       "18  287289.457-303249.863    10.0\n",
       "19   303249.863-319210.27    11.0"
      ]
     },
     "execution_count": 290,
     "metadata": {},
     "output_type": "execute_result"
    }
   ],
   "source": [
    "import pandas as pd\n",
    "interval=[]\n",
    "for i in range(len(bins)-1):\n",
    "    d=bins[i]\n",
    "    b=bins[i+1]\n",
    "    interval.append(f'{round(d,3)}-{round(b,3)}')\n",
    "d=pd.DataFrame(zip(interval,c),columns=['intervals','observ'])\n",
    "d"
   ]
  },
  {
   "cell_type": "code",
   "execution_count": 20,
   "id": "a920f068-54b7-48a1-b450-c20cc28ff3e5",
   "metadata": {},
   "outputs": [
    {
     "data": {
      "text/plain": [
       "42.373340675476605"
      ]
     },
     "execution_count": 20,
     "metadata": {},
     "output_type": "execute_result"
    }
   ],
   "source": [
    "import pandas as pd\n",
    "x={'a':[31,97,112,63,12]}\n",
    "xi=pd.DataFrame(x)\n",
    "xi['a'].std()"
   ]
  },
  {
   "cell_type": "code",
   "execution_count": null,
   "id": "64334bb8-b656-4d0d-bb2f-c79cbdcfa8dd",
   "metadata": {},
   "outputs": [],
   "source": []
  }
 ],
 "metadata": {
  "kernelspec": {
   "display_name": "Python 3 (ipykernel)",
   "language": "python",
   "name": "python3"
  },
  "language_info": {
   "codemirror_mode": {
    "name": "ipython",
    "version": 3
   },
   "file_extension": ".py",
   "mimetype": "text/x-python",
   "name": "python",
   "nbconvert_exporter": "python",
   "pygments_lexer": "ipython3",
   "version": "3.11.7"
  }
 },
 "nbformat": 4,
 "nbformat_minor": 5
}
